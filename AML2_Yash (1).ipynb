{
 "cells": [
  {
   "cell_type": "markdown",
   "metadata": {
    "id": "glYp-zAzUvyV"
   },
   "source": [
    "# Spotify Hit Song Predictor"
   ]
  },
  {
   "cell_type": "markdown",
   "metadata": {
    "id": "VPBjcjPvU4qC"
   },
   "source": [
    "Let's try to predict the song will be hit or miss.\n",
    "\n",
    " This spotify dataset has songs from 1960s-2010s.\n",
    " \n",
    "![download.jpeg](data:image/jpeg;base64,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)"
   ]
  },
  {
   "cell_type": "markdown",
   "metadata": {
    "id": "DiDIbHpEVJyf"
   },
   "source": [
    "# All About Data"
   ]
  },
  {
   "cell_type": "code",
   "execution_count": 1,
   "metadata": {
    "id": "AFUcZd31DY1-"
   },
   "outputs": [],
   "source": [
    "import numpy as np\n",
    "import seaborn as sns\n",
    "from sklearn.ensemble import RandomForestClassifier, VotingClassifier, StackingClassifier,GradientBoostingClassifier, AdaBoostClassifier\n",
    "import pandas as pd\n",
    "from sklearn.model_selection import train_test_split\n",
    "from sklearn.preprocessing import StandardScaler\n",
    "from sklearn.linear_model import LogisticRegression\n",
    "from sklearn.model_selection import cross_val_score, RepeatedStratifiedKFold\n",
    "from sklearn.svm import LinearSVC, SVC\n",
    "from sklearn.ensemble import RandomForestClassifier, GradientBoostingClassifier\n",
    "import warnings\n",
    "from sklearn.metrics import confusion_matrix\n",
    "from sklearn import metrics\n",
    "warnings.filterwarnings(action='ignore')\n",
    "import matplotlib.pyplot as matplot\n",
    "import seaborn as sns\n"
   ]
  },
  {
   "cell_type": "code",
   "execution_count": 2,
   "metadata": {
    "id": "1BmDAmpUVPC2"
   },
   "outputs": [],
   "source": [
    "datas = [pd.read_csv(\"/content/drive/MyDrive/Colab Notebooks/AppliedML/archive/dataset-of-{}s.csv\".format(decade)) for decade in ['60', '70', '80', '90', '00', '10']]\n"
   ]
  },
  {
   "cell_type": "code",
   "execution_count": 3,
   "metadata": {
    "id": "_4_ZnPuzQ_GI"
   },
   "outputs": [],
   "source": [
    "for i, decade in enumerate([1960, 1970, 1980, 1990, 2000, 2010]):\n",
    "    datas[i]['decade'] = pd.Series(decade, index=datas[i].index)\n",
    "\n",
    "data = pd.concat(datas, axis=0).sample(frac=1.0, random_state=1).reset_index(drop=True)\n"
   ]
  },
  {
   "cell_type": "code",
   "execution_count": 4,
   "metadata": {
    "colab": {
     "base_uri": "https://localhost:8080/",
     "height": 443
    },
    "id": "7lASB4foYI2j",
    "outputId": "bdb46e80-026b-4c71-ec7c-bebcf85c4499"
   },
   "outputs": [
    {
     "data": {
      "text/html": [
       "\n",
       "  <div id=\"df-5ceebb3c-eb1f-4a25-aab4-cfe7170a7710\">\n",
       "    <div class=\"colab-df-container\">\n",
       "      <div>\n",
       "<style scoped>\n",
       "    .dataframe tbody tr th:only-of-type {\n",
       "        vertical-align: middle;\n",
       "    }\n",
       "\n",
       "    .dataframe tbody tr th {\n",
       "        vertical-align: top;\n",
       "    }\n",
       "\n",
       "    .dataframe thead th {\n",
       "        text-align: right;\n",
       "    }\n",
       "</style>\n",
       "<table border=\"1\" class=\"dataframe\">\n",
       "  <thead>\n",
       "    <tr style=\"text-align: right;\">\n",
       "      <th></th>\n",
       "      <th>track</th>\n",
       "      <th>artist</th>\n",
       "      <th>uri</th>\n",
       "      <th>danceability</th>\n",
       "      <th>energy</th>\n",
       "      <th>key</th>\n",
       "      <th>loudness</th>\n",
       "      <th>mode</th>\n",
       "      <th>speechiness</th>\n",
       "      <th>acousticness</th>\n",
       "      <th>instrumentalness</th>\n",
       "      <th>liveness</th>\n",
       "      <th>valence</th>\n",
       "      <th>tempo</th>\n",
       "      <th>duration_ms</th>\n",
       "      <th>time_signature</th>\n",
       "      <th>chorus_hit</th>\n",
       "      <th>sections</th>\n",
       "      <th>target</th>\n",
       "      <th>decade</th>\n",
       "    </tr>\n",
       "  </thead>\n",
       "  <tbody>\n",
       "    <tr>\n",
       "      <th>0</th>\n",
       "      <td>Attaining - Take 1 / Alternate Version</td>\n",
       "      <td>John Coltrane</td>\n",
       "      <td>spotify:track:3EwLV5hZqLKx5e0Lp1QcB7</td>\n",
       "      <td>0.342</td>\n",
       "      <td>0.462</td>\n",
       "      <td>4</td>\n",
       "      <td>-12.931</td>\n",
       "      <td>0</td>\n",
       "      <td>0.0389</td>\n",
       "      <td>0.51400</td>\n",
       "      <td>0.018100</td>\n",
       "      <td>0.0977</td>\n",
       "      <td>0.397</td>\n",
       "      <td>98.466</td>\n",
       "      <td>816867</td>\n",
       "      <td>4</td>\n",
       "      <td>24.84938</td>\n",
       "      <td>33</td>\n",
       "      <td>0</td>\n",
       "      <td>1970</td>\n",
       "    </tr>\n",
       "    <tr>\n",
       "      <th>1</th>\n",
       "      <td>So Fly</td>\n",
       "      <td>NB Ridaz Featuring Gemini</td>\n",
       "      <td>spotify:track:2BjIi07kN0yKSur0Fwrnss</td>\n",
       "      <td>0.861</td>\n",
       "      <td>0.519</td>\n",
       "      <td>2</td>\n",
       "      <td>-6.404</td>\n",
       "      <td>1</td>\n",
       "      <td>0.1120</td>\n",
       "      <td>0.13600</td>\n",
       "      <td>0.000000</td>\n",
       "      <td>0.1230</td>\n",
       "      <td>0.519</td>\n",
       "      <td>81.966</td>\n",
       "      <td>254533</td>\n",
       "      <td>4</td>\n",
       "      <td>50.03590</td>\n",
       "      <td>11</td>\n",
       "      <td>1</td>\n",
       "      <td>2000</td>\n",
       "    </tr>\n",
       "    <tr>\n",
       "      <th>2</th>\n",
       "      <td>Because I Got It Like That</td>\n",
       "      <td>Jungle Brothers</td>\n",
       "      <td>spotify:track:5unLExF3iiG3YkU11u6wFO</td>\n",
       "      <td>0.900</td>\n",
       "      <td>0.916</td>\n",
       "      <td>1</td>\n",
       "      <td>-7.481</td>\n",
       "      <td>0</td>\n",
       "      <td>0.1150</td>\n",
       "      <td>0.22000</td>\n",
       "      <td>0.000141</td>\n",
       "      <td>0.0323</td>\n",
       "      <td>0.538</td>\n",
       "      <td>102.916</td>\n",
       "      <td>277894</td>\n",
       "      <td>4</td>\n",
       "      <td>24.71271</td>\n",
       "      <td>16</td>\n",
       "      <td>0</td>\n",
       "      <td>1980</td>\n",
       "    </tr>\n",
       "    <tr>\n",
       "      <th>3</th>\n",
       "      <td>Babylon a Fall - Remastered</td>\n",
       "      <td>Yabby You</td>\n",
       "      <td>spotify:track:6xfe0G2HwRDQaChxkzvNKw</td>\n",
       "      <td>0.714</td>\n",
       "      <td>0.301</td>\n",
       "      <td>2</td>\n",
       "      <td>-14.800</td>\n",
       "      <td>1</td>\n",
       "      <td>0.1230</td>\n",
       "      <td>0.15600</td>\n",
       "      <td>0.661000</td>\n",
       "      <td>0.2290</td>\n",
       "      <td>0.651</td>\n",
       "      <td>74.856</td>\n",
       "      <td>357671</td>\n",
       "      <td>4</td>\n",
       "      <td>104.64231</td>\n",
       "      <td>11</td>\n",
       "      <td>0</td>\n",
       "      <td>1970</td>\n",
       "    </tr>\n",
       "    <tr>\n",
       "      <th>4</th>\n",
       "      <td>Fins</td>\n",
       "      <td>Jimmy Buffett</td>\n",
       "      <td>spotify:track:4h0gZ422QxBRdTV14u0P8y</td>\n",
       "      <td>0.661</td>\n",
       "      <td>0.645</td>\n",
       "      <td>4</td>\n",
       "      <td>-13.520</td>\n",
       "      <td>1</td>\n",
       "      <td>0.0487</td>\n",
       "      <td>0.00895</td>\n",
       "      <td>0.000000</td>\n",
       "      <td>0.0362</td>\n",
       "      <td>0.930</td>\n",
       "      <td>136.693</td>\n",
       "      <td>204640</td>\n",
       "      <td>4</td>\n",
       "      <td>31.99617</td>\n",
       "      <td>10</td>\n",
       "      <td>1</td>\n",
       "      <td>1970</td>\n",
       "    </tr>\n",
       "  </tbody>\n",
       "</table>\n",
       "</div>\n",
       "      <button class=\"colab-df-convert\" onclick=\"convertToInteractive('df-5ceebb3c-eb1f-4a25-aab4-cfe7170a7710')\"\n",
       "              title=\"Convert this dataframe to an interactive table.\"\n",
       "              style=\"display:none;\">\n",
       "        \n",
       "  <svg xmlns=\"http://www.w3.org/2000/svg\" height=\"24px\"viewBox=\"0 0 24 24\"\n",
       "       width=\"24px\">\n",
       "    <path d=\"M0 0h24v24H0V0z\" fill=\"none\"/>\n",
       "    <path d=\"M18.56 5.44l.94 2.06.94-2.06 2.06-.94-2.06-.94-.94-2.06-.94 2.06-2.06.94zm-11 1L8.5 8.5l.94-2.06 2.06-.94-2.06-.94L8.5 2.5l-.94 2.06-2.06.94zm10 10l.94 2.06.94-2.06 2.06-.94-2.06-.94-.94-2.06-.94 2.06-2.06.94z\"/><path d=\"M17.41 7.96l-1.37-1.37c-.4-.4-.92-.59-1.43-.59-.52 0-1.04.2-1.43.59L10.3 9.45l-7.72 7.72c-.78.78-.78 2.05 0 2.83L4 21.41c.39.39.9.59 1.41.59.51 0 1.02-.2 1.41-.59l7.78-7.78 2.81-2.81c.8-.78.8-2.07 0-2.86zM5.41 20L4 18.59l7.72-7.72 1.47 1.35L5.41 20z\"/>\n",
       "  </svg>\n",
       "      </button>\n",
       "      \n",
       "  <style>\n",
       "    .colab-df-container {\n",
       "      display:flex;\n",
       "      flex-wrap:wrap;\n",
       "      gap: 12px;\n",
       "    }\n",
       "\n",
       "    .colab-df-convert {\n",
       "      background-color: #E8F0FE;\n",
       "      border: none;\n",
       "      border-radius: 50%;\n",
       "      cursor: pointer;\n",
       "      display: none;\n",
       "      fill: #1967D2;\n",
       "      height: 32px;\n",
       "      padding: 0 0 0 0;\n",
       "      width: 32px;\n",
       "    }\n",
       "\n",
       "    .colab-df-convert:hover {\n",
       "      background-color: #E2EBFA;\n",
       "      box-shadow: 0px 1px 2px rgba(60, 64, 67, 0.3), 0px 1px 3px 1px rgba(60, 64, 67, 0.15);\n",
       "      fill: #174EA6;\n",
       "    }\n",
       "\n",
       "    [theme=dark] .colab-df-convert {\n",
       "      background-color: #3B4455;\n",
       "      fill: #D2E3FC;\n",
       "    }\n",
       "\n",
       "    [theme=dark] .colab-df-convert:hover {\n",
       "      background-color: #434B5C;\n",
       "      box-shadow: 0px 1px 3px 1px rgba(0, 0, 0, 0.15);\n",
       "      filter: drop-shadow(0px 1px 2px rgba(0, 0, 0, 0.3));\n",
       "      fill: #FFFFFF;\n",
       "    }\n",
       "  </style>\n",
       "\n",
       "      <script>\n",
       "        const buttonEl =\n",
       "          document.querySelector('#df-5ceebb3c-eb1f-4a25-aab4-cfe7170a7710 button.colab-df-convert');\n",
       "        buttonEl.style.display =\n",
       "          google.colab.kernel.accessAllowed ? 'block' : 'none';\n",
       "\n",
       "        async function convertToInteractive(key) {\n",
       "          const element = document.querySelector('#df-5ceebb3c-eb1f-4a25-aab4-cfe7170a7710');\n",
       "          const dataTable =\n",
       "            await google.colab.kernel.invokeFunction('convertToInteractive',\n",
       "                                                     [key], {});\n",
       "          if (!dataTable) return;\n",
       "\n",
       "          const docLinkHtml = 'Like what you see? Visit the ' +\n",
       "            '<a target=\"_blank\" href=https://colab.research.google.com/notebooks/data_table.ipynb>data table notebook</a>'\n",
       "            + ' to learn more about interactive tables.';\n",
       "          element.innerHTML = '';\n",
       "          dataTable['output_type'] = 'display_data';\n",
       "          await google.colab.output.renderOutput(dataTable, element);\n",
       "          const docLink = document.createElement('div');\n",
       "          docLink.innerHTML = docLinkHtml;\n",
       "          element.appendChild(docLink);\n",
       "        }\n",
       "      </script>\n",
       "    </div>\n",
       "  </div>\n",
       "  "
      ],
      "text/plain": [
       "                                    track                     artist  \\\n",
       "0  Attaining - Take 1 / Alternate Version              John Coltrane   \n",
       "1                                  So Fly  NB Ridaz Featuring Gemini   \n",
       "2              Because I Got It Like That            Jungle Brothers   \n",
       "3             Babylon a Fall - Remastered                  Yabby You   \n",
       "4                                    Fins              Jimmy Buffett   \n",
       "\n",
       "                                    uri  danceability  energy  key  loudness  \\\n",
       "0  spotify:track:3EwLV5hZqLKx5e0Lp1QcB7         0.342   0.462    4   -12.931   \n",
       "1  spotify:track:2BjIi07kN0yKSur0Fwrnss         0.861   0.519    2    -6.404   \n",
       "2  spotify:track:5unLExF3iiG3YkU11u6wFO         0.900   0.916    1    -7.481   \n",
       "3  spotify:track:6xfe0G2HwRDQaChxkzvNKw         0.714   0.301    2   -14.800   \n",
       "4  spotify:track:4h0gZ422QxBRdTV14u0P8y         0.661   0.645    4   -13.520   \n",
       "\n",
       "   mode  speechiness  acousticness  instrumentalness  liveness  valence  \\\n",
       "0     0       0.0389       0.51400          0.018100    0.0977    0.397   \n",
       "1     1       0.1120       0.13600          0.000000    0.1230    0.519   \n",
       "2     0       0.1150       0.22000          0.000141    0.0323    0.538   \n",
       "3     1       0.1230       0.15600          0.661000    0.2290    0.651   \n",
       "4     1       0.0487       0.00895          0.000000    0.0362    0.930   \n",
       "\n",
       "     tempo  duration_ms  time_signature  chorus_hit  sections  target  decade  \n",
       "0   98.466       816867               4    24.84938        33       0    1970  \n",
       "1   81.966       254533               4    50.03590        11       1    2000  \n",
       "2  102.916       277894               4    24.71271        16       0    1980  \n",
       "3   74.856       357671               4   104.64231        11       0    1970  \n",
       "4  136.693       204640               4    31.99617        10       1    1970  "
      ]
     },
     "execution_count": 4,
     "metadata": {},
     "output_type": "execute_result"
    }
   ],
   "source": [
    "data.head()"
   ]
  },
  {
   "cell_type": "code",
   "execution_count": 5,
   "metadata": {
    "colab": {
     "base_uri": "https://localhost:8080/",
     "height": 0
    },
    "id": "F7u4J7l_YOSw",
    "outputId": "28410118-0f8d-4a2f-d255-6dad63a6ec0d"
   },
   "outputs": [
    {
     "data": {
      "text/plain": [
       "(41106, 20)"
      ]
     },
     "execution_count": 5,
     "metadata": {},
     "output_type": "execute_result"
    }
   ],
   "source": [
    "data.shape"
   ]
  },
  {
   "cell_type": "markdown",
   "metadata": {
    "id": "aFR7Nzb9S0xh"
   },
   "source": [
    "Data has 41106 rows and 20 columns."
   ]
  },
  {
   "cell_type": "code",
   "execution_count": 6,
   "metadata": {
    "colab": {
     "base_uri": "https://localhost:8080/",
     "height": 0
    },
    "id": "A_hph56rRiy6",
    "outputId": "0e7fab43-99cc-41ee-99f5-f782d8247780"
   },
   "outputs": [
    {
     "name": "stdout",
     "output_type": "stream",
     "text": [
      "<class 'pandas.core.frame.DataFrame'>\n",
      "RangeIndex: 41106 entries, 0 to 41105\n",
      "Data columns (total 20 columns):\n",
      " #   Column            Non-Null Count  Dtype  \n",
      "---  ------            --------------  -----  \n",
      " 0   track             41106 non-null  object \n",
      " 1   artist            41106 non-null  object \n",
      " 2   uri               41106 non-null  object \n",
      " 3   danceability      41106 non-null  float64\n",
      " 4   energy            41106 non-null  float64\n",
      " 5   key               41106 non-null  int64  \n",
      " 6   loudness          41106 non-null  float64\n",
      " 7   mode              41106 non-null  int64  \n",
      " 8   speechiness       41106 non-null  float64\n",
      " 9   acousticness      41106 non-null  float64\n",
      " 10  instrumentalness  41106 non-null  float64\n",
      " 11  liveness          41106 non-null  float64\n",
      " 12  valence           41106 non-null  float64\n",
      " 13  tempo             41106 non-null  float64\n",
      " 14  duration_ms       41106 non-null  int64  \n",
      " 15  time_signature    41106 non-null  int64  \n",
      " 16  chorus_hit        41106 non-null  float64\n",
      " 17  sections          41106 non-null  int64  \n",
      " 18  target            41106 non-null  int64  \n",
      " 19  decade            41106 non-null  int64  \n",
      "dtypes: float64(10), int64(7), object(3)\n",
      "memory usage: 6.3+ MB\n"
     ]
    }
   ],
   "source": [
    "data.info()"
   ]
  },
  {
   "cell_type": "code",
   "execution_count": 7,
   "metadata": {
    "colab": {
     "base_uri": "https://localhost:8080/",
     "height": 0
    },
    "id": "aaLTTeH0Sr5y",
    "outputId": "2c1294ad-9d02-4490-ba0b-b8bace71b548"
   },
   "outputs": [
    {
     "data": {
      "text/plain": [
       "Index(['track', 'artist', 'uri', 'danceability', 'energy', 'key', 'loudness',\n",
       "       'mode', 'speechiness', 'acousticness', 'instrumentalness', 'liveness',\n",
       "       'valence', 'tempo', 'duration_ms', 'time_signature', 'chorus_hit',\n",
       "       'sections', 'target', 'decade'],\n",
       "      dtype='object')"
      ]
     },
     "execution_count": 7,
     "metadata": {},
     "output_type": "execute_result"
    }
   ],
   "source": [
    "data.columns"
   ]
  },
  {
   "cell_type": "code",
   "execution_count": 8,
   "metadata": {
    "colab": {
     "base_uri": "https://localhost:8080/",
     "height": 0
    },
    "id": "0JY48hXQSwaP",
    "outputId": "9169a14e-82e9-482b-c605-1b1c1c96e502"
   },
   "outputs": [
    {
     "data": {
      "text/plain": [
       "track               35860\n",
       "artist              11904\n",
       "uri                 40560\n",
       "danceability         1048\n",
       "energy               1787\n",
       "key                    12\n",
       "loudness            16160\n",
       "mode                    2\n",
       "speechiness          1346\n",
       "acousticness         4194\n",
       "instrumentalness     5122\n",
       "liveness             1674\n",
       "valence              1609\n",
       "tempo               32152\n",
       "duration_ms         21517\n",
       "time_signature          5\n",
       "chorus_hit          39950\n",
       "sections               84\n",
       "target                  2\n",
       "decade                  6\n",
       "dtype: int64"
      ]
     },
     "execution_count": 8,
     "metadata": {},
     "output_type": "execute_result"
    }
   ],
   "source": [
    "data.nunique(axis=0)\n"
   ]
  },
  {
   "cell_type": "code",
   "execution_count": 9,
   "metadata": {
    "colab": {
     "base_uri": "https://localhost:8080/",
     "height": 364
    },
    "id": "3_HVaq43TD-Y",
    "outputId": "a65132e6-28fe-4148-a179-1c67ebd4d069"
   },
   "outputs": [
    {
     "data": {
      "text/html": [
       "\n",
       "  <div id=\"df-7bb815cc-fad6-4322-8dce-c497c6d6111c\">\n",
       "    <div class=\"colab-df-container\">\n",
       "      <div>\n",
       "<style scoped>\n",
       "    .dataframe tbody tr th:only-of-type {\n",
       "        vertical-align: middle;\n",
       "    }\n",
       "\n",
       "    .dataframe tbody tr th {\n",
       "        vertical-align: top;\n",
       "    }\n",
       "\n",
       "    .dataframe thead th {\n",
       "        text-align: right;\n",
       "    }\n",
       "</style>\n",
       "<table border=\"1\" class=\"dataframe\">\n",
       "  <thead>\n",
       "    <tr style=\"text-align: right;\">\n",
       "      <th></th>\n",
       "      <th>danceability</th>\n",
       "      <th>energy</th>\n",
       "      <th>key</th>\n",
       "      <th>loudness</th>\n",
       "      <th>mode</th>\n",
       "      <th>speechiness</th>\n",
       "      <th>acousticness</th>\n",
       "      <th>instrumentalness</th>\n",
       "      <th>liveness</th>\n",
       "      <th>valence</th>\n",
       "      <th>tempo</th>\n",
       "      <th>duration_ms</th>\n",
       "      <th>time_signature</th>\n",
       "      <th>chorus_hit</th>\n",
       "      <th>sections</th>\n",
       "      <th>target</th>\n",
       "      <th>decade</th>\n",
       "    </tr>\n",
       "  </thead>\n",
       "  <tbody>\n",
       "    <tr>\n",
       "      <th>count</th>\n",
       "      <td>41106.000000</td>\n",
       "      <td>41106.000000</td>\n",
       "      <td>41106.000000</td>\n",
       "      <td>41106.000000</td>\n",
       "      <td>41106.000000</td>\n",
       "      <td>41106.000000</td>\n",
       "      <td>41106.000000</td>\n",
       "      <td>41106.000000</td>\n",
       "      <td>41106.000000</td>\n",
       "      <td>41106.000000</td>\n",
       "      <td>41106.000000</td>\n",
       "      <td>41106.000000</td>\n",
       "      <td>41106.000000</td>\n",
       "      <td>41106.000000</td>\n",
       "      <td>41106.000000</td>\n",
       "      <td>41106.000000</td>\n",
       "      <td>41106.000000</td>\n",
       "    </tr>\n",
       "    <tr>\n",
       "      <th>mean</th>\n",
       "      <td>0.539695</td>\n",
       "      <td>0.579545</td>\n",
       "      <td>5.213594</td>\n",
       "      <td>-10.221525</td>\n",
       "      <td>0.693354</td>\n",
       "      <td>0.072960</td>\n",
       "      <td>0.364197</td>\n",
       "      <td>0.154416</td>\n",
       "      <td>0.201535</td>\n",
       "      <td>0.542440</td>\n",
       "      <td>119.338249</td>\n",
       "      <td>234877.550455</td>\n",
       "      <td>3.893689</td>\n",
       "      <td>40.106041</td>\n",
       "      <td>10.475673</td>\n",
       "      <td>0.500000</td>\n",
       "      <td>1982.775264</td>\n",
       "    </tr>\n",
       "    <tr>\n",
       "      <th>std</th>\n",
       "      <td>0.177821</td>\n",
       "      <td>0.252628</td>\n",
       "      <td>3.534977</td>\n",
       "      <td>5.311626</td>\n",
       "      <td>0.461107</td>\n",
       "      <td>0.086112</td>\n",
       "      <td>0.338913</td>\n",
       "      <td>0.303530</td>\n",
       "      <td>0.172959</td>\n",
       "      <td>0.267329</td>\n",
       "      <td>29.098845</td>\n",
       "      <td>118967.398337</td>\n",
       "      <td>0.423073</td>\n",
       "      <td>19.005515</td>\n",
       "      <td>4.871850</td>\n",
       "      <td>0.500006</td>\n",
       "      <td>17.491234</td>\n",
       "    </tr>\n",
       "    <tr>\n",
       "      <th>min</th>\n",
       "      <td>0.000000</td>\n",
       "      <td>0.000251</td>\n",
       "      <td>0.000000</td>\n",
       "      <td>-49.253000</td>\n",
       "      <td>0.000000</td>\n",
       "      <td>0.000000</td>\n",
       "      <td>0.000000</td>\n",
       "      <td>0.000000</td>\n",
       "      <td>0.013000</td>\n",
       "      <td>0.000000</td>\n",
       "      <td>0.000000</td>\n",
       "      <td>15168.000000</td>\n",
       "      <td>0.000000</td>\n",
       "      <td>0.000000</td>\n",
       "      <td>0.000000</td>\n",
       "      <td>0.000000</td>\n",
       "      <td>1960.000000</td>\n",
       "    </tr>\n",
       "    <tr>\n",
       "      <th>25%</th>\n",
       "      <td>0.420000</td>\n",
       "      <td>0.396000</td>\n",
       "      <td>2.000000</td>\n",
       "      <td>-12.816000</td>\n",
       "      <td>0.000000</td>\n",
       "      <td>0.033700</td>\n",
       "      <td>0.039400</td>\n",
       "      <td>0.000000</td>\n",
       "      <td>0.094000</td>\n",
       "      <td>0.330000</td>\n",
       "      <td>97.397000</td>\n",
       "      <td>172927.750000</td>\n",
       "      <td>4.000000</td>\n",
       "      <td>27.599792</td>\n",
       "      <td>8.000000</td>\n",
       "      <td>0.000000</td>\n",
       "      <td>1970.000000</td>\n",
       "    </tr>\n",
       "    <tr>\n",
       "      <th>50%</th>\n",
       "      <td>0.552000</td>\n",
       "      <td>0.601000</td>\n",
       "      <td>5.000000</td>\n",
       "      <td>-9.257000</td>\n",
       "      <td>1.000000</td>\n",
       "      <td>0.043400</td>\n",
       "      <td>0.258000</td>\n",
       "      <td>0.000120</td>\n",
       "      <td>0.132000</td>\n",
       "      <td>0.558000</td>\n",
       "      <td>117.565000</td>\n",
       "      <td>217907.000000</td>\n",
       "      <td>4.000000</td>\n",
       "      <td>35.850795</td>\n",
       "      <td>10.000000</td>\n",
       "      <td>0.500000</td>\n",
       "      <td>1980.000000</td>\n",
       "    </tr>\n",
       "    <tr>\n",
       "      <th>75%</th>\n",
       "      <td>0.669000</td>\n",
       "      <td>0.787000</td>\n",
       "      <td>8.000000</td>\n",
       "      <td>-6.374250</td>\n",
       "      <td>1.000000</td>\n",
       "      <td>0.069800</td>\n",
       "      <td>0.676000</td>\n",
       "      <td>0.061250</td>\n",
       "      <td>0.261000</td>\n",
       "      <td>0.768000</td>\n",
       "      <td>136.494000</td>\n",
       "      <td>266773.000000</td>\n",
       "      <td>4.000000</td>\n",
       "      <td>47.625615</td>\n",
       "      <td>12.000000</td>\n",
       "      <td>1.000000</td>\n",
       "      <td>2000.000000</td>\n",
       "    </tr>\n",
       "    <tr>\n",
       "      <th>max</th>\n",
       "      <td>0.988000</td>\n",
       "      <td>1.000000</td>\n",
       "      <td>11.000000</td>\n",
       "      <td>3.744000</td>\n",
       "      <td>1.000000</td>\n",
       "      <td>0.960000</td>\n",
       "      <td>0.996000</td>\n",
       "      <td>1.000000</td>\n",
       "      <td>0.999000</td>\n",
       "      <td>0.996000</td>\n",
       "      <td>241.423000</td>\n",
       "      <td>4170227.000000</td>\n",
       "      <td>5.000000</td>\n",
       "      <td>433.182000</td>\n",
       "      <td>169.000000</td>\n",
       "      <td>1.000000</td>\n",
       "      <td>2010.000000</td>\n",
       "    </tr>\n",
       "  </tbody>\n",
       "</table>\n",
       "</div>\n",
       "      <button class=\"colab-df-convert\" onclick=\"convertToInteractive('df-7bb815cc-fad6-4322-8dce-c497c6d6111c')\"\n",
       "              title=\"Convert this dataframe to an interactive table.\"\n",
       "              style=\"display:none;\">\n",
       "        \n",
       "  <svg xmlns=\"http://www.w3.org/2000/svg\" height=\"24px\"viewBox=\"0 0 24 24\"\n",
       "       width=\"24px\">\n",
       "    <path d=\"M0 0h24v24H0V0z\" fill=\"none\"/>\n",
       "    <path d=\"M18.56 5.44l.94 2.06.94-2.06 2.06-.94-2.06-.94-.94-2.06-.94 2.06-2.06.94zm-11 1L8.5 8.5l.94-2.06 2.06-.94-2.06-.94L8.5 2.5l-.94 2.06-2.06.94zm10 10l.94 2.06.94-2.06 2.06-.94-2.06-.94-.94-2.06-.94 2.06-2.06.94z\"/><path d=\"M17.41 7.96l-1.37-1.37c-.4-.4-.92-.59-1.43-.59-.52 0-1.04.2-1.43.59L10.3 9.45l-7.72 7.72c-.78.78-.78 2.05 0 2.83L4 21.41c.39.39.9.59 1.41.59.51 0 1.02-.2 1.41-.59l7.78-7.78 2.81-2.81c.8-.78.8-2.07 0-2.86zM5.41 20L4 18.59l7.72-7.72 1.47 1.35L5.41 20z\"/>\n",
       "  </svg>\n",
       "      </button>\n",
       "      \n",
       "  <style>\n",
       "    .colab-df-container {\n",
       "      display:flex;\n",
       "      flex-wrap:wrap;\n",
       "      gap: 12px;\n",
       "    }\n",
       "\n",
       "    .colab-df-convert {\n",
       "      background-color: #E8F0FE;\n",
       "      border: none;\n",
       "      border-radius: 50%;\n",
       "      cursor: pointer;\n",
       "      display: none;\n",
       "      fill: #1967D2;\n",
       "      height: 32px;\n",
       "      padding: 0 0 0 0;\n",
       "      width: 32px;\n",
       "    }\n",
       "\n",
       "    .colab-df-convert:hover {\n",
       "      background-color: #E2EBFA;\n",
       "      box-shadow: 0px 1px 2px rgba(60, 64, 67, 0.3), 0px 1px 3px 1px rgba(60, 64, 67, 0.15);\n",
       "      fill: #174EA6;\n",
       "    }\n",
       "\n",
       "    [theme=dark] .colab-df-convert {\n",
       "      background-color: #3B4455;\n",
       "      fill: #D2E3FC;\n",
       "    }\n",
       "\n",
       "    [theme=dark] .colab-df-convert:hover {\n",
       "      background-color: #434B5C;\n",
       "      box-shadow: 0px 1px 3px 1px rgba(0, 0, 0, 0.15);\n",
       "      filter: drop-shadow(0px 1px 2px rgba(0, 0, 0, 0.3));\n",
       "      fill: #FFFFFF;\n",
       "    }\n",
       "  </style>\n",
       "\n",
       "      <script>\n",
       "        const buttonEl =\n",
       "          document.querySelector('#df-7bb815cc-fad6-4322-8dce-c497c6d6111c button.colab-df-convert');\n",
       "        buttonEl.style.display =\n",
       "          google.colab.kernel.accessAllowed ? 'block' : 'none';\n",
       "\n",
       "        async function convertToInteractive(key) {\n",
       "          const element = document.querySelector('#df-7bb815cc-fad6-4322-8dce-c497c6d6111c');\n",
       "          const dataTable =\n",
       "            await google.colab.kernel.invokeFunction('convertToInteractive',\n",
       "                                                     [key], {});\n",
       "          if (!dataTable) return;\n",
       "\n",
       "          const docLinkHtml = 'Like what you see? Visit the ' +\n",
       "            '<a target=\"_blank\" href=https://colab.research.google.com/notebooks/data_table.ipynb>data table notebook</a>'\n",
       "            + ' to learn more about interactive tables.';\n",
       "          element.innerHTML = '';\n",
       "          dataTable['output_type'] = 'display_data';\n",
       "          await google.colab.output.renderOutput(dataTable, element);\n",
       "          const docLink = document.createElement('div');\n",
       "          docLink.innerHTML = docLinkHtml;\n",
       "          element.appendChild(docLink);\n",
       "        }\n",
       "      </script>\n",
       "    </div>\n",
       "  </div>\n",
       "  "
      ],
      "text/plain": [
       "       danceability        energy           key      loudness          mode  \\\n",
       "count  41106.000000  41106.000000  41106.000000  41106.000000  41106.000000   \n",
       "mean       0.539695      0.579545      5.213594    -10.221525      0.693354   \n",
       "std        0.177821      0.252628      3.534977      5.311626      0.461107   \n",
       "min        0.000000      0.000251      0.000000    -49.253000      0.000000   \n",
       "25%        0.420000      0.396000      2.000000    -12.816000      0.000000   \n",
       "50%        0.552000      0.601000      5.000000     -9.257000      1.000000   \n",
       "75%        0.669000      0.787000      8.000000     -6.374250      1.000000   \n",
       "max        0.988000      1.000000     11.000000      3.744000      1.000000   \n",
       "\n",
       "        speechiness  acousticness instrumentalness      liveness  \\\n",
       "count  41106.000000  41106.000000     41106.000000  41106.000000   \n",
       "mean       0.072960      0.364197         0.154416      0.201535   \n",
       "std        0.086112      0.338913         0.303530      0.172959   \n",
       "min        0.000000      0.000000         0.000000      0.013000   \n",
       "25%        0.033700      0.039400         0.000000      0.094000   \n",
       "50%        0.043400      0.258000         0.000120      0.132000   \n",
       "75%        0.069800      0.676000         0.061250      0.261000   \n",
       "max        0.960000      0.996000         1.000000      0.999000   \n",
       "\n",
       "            valence         tempo     duration_ms time_signature  \\\n",
       "count  41106.000000  41106.000000    41106.000000   41106.000000   \n",
       "mean       0.542440    119.338249   234877.550455       3.893689   \n",
       "std        0.267329     29.098845   118967.398337       0.423073   \n",
       "min        0.000000      0.000000    15168.000000       0.000000   \n",
       "25%        0.330000     97.397000   172927.750000       4.000000   \n",
       "50%        0.558000    117.565000   217907.000000       4.000000   \n",
       "75%        0.768000    136.494000   266773.000000       4.000000   \n",
       "max        0.996000    241.423000  4170227.000000       5.000000   \n",
       "\n",
       "         chorus_hit      sections        target        decade  \n",
       "count  41106.000000  41106.000000  41106.000000  41106.000000  \n",
       "mean      40.106041     10.475673      0.500000   1982.775264  \n",
       "std       19.005515      4.871850      0.500006     17.491234  \n",
       "min        0.000000      0.000000      0.000000   1960.000000  \n",
       "25%       27.599792      8.000000      0.000000   1970.000000  \n",
       "50%       35.850795     10.000000      0.500000   1980.000000  \n",
       "75%       47.625615     12.000000      1.000000   2000.000000  \n",
       "max      433.182000    169.000000      1.000000   2010.000000  "
      ]
     },
     "execution_count": 9,
     "metadata": {},
     "output_type": "execute_result"
    }
   ],
   "source": [
    "data.describe().apply(lambda s: s.apply(lambda x: format(x, 'f')))\n"
   ]
  },
  {
   "cell_type": "code",
   "execution_count": 10,
   "metadata": {
    "colab": {
     "base_uri": "https://localhost:8080/",
     "height": 206
    },
    "id": "DpVZZyalTPPo",
    "outputId": "ca185330-2ac8-46a5-c77b-94e8de60fb9c"
   },
   "outputs": [
    {
     "data": {
      "text/html": [
       "\n",
       "  <div id=\"df-4bb29b5f-de8e-49e0-83a7-3c210e0ec4e0\">\n",
       "    <div class=\"colab-df-container\">\n",
       "      <div>\n",
       "<style scoped>\n",
       "    .dataframe tbody tr th:only-of-type {\n",
       "        vertical-align: middle;\n",
       "    }\n",
       "\n",
       "    .dataframe tbody tr th {\n",
       "        vertical-align: top;\n",
       "    }\n",
       "\n",
       "    .dataframe thead th {\n",
       "        text-align: right;\n",
       "    }\n",
       "</style>\n",
       "<table border=\"1\" class=\"dataframe\">\n",
       "  <thead>\n",
       "    <tr style=\"text-align: right;\">\n",
       "      <th></th>\n",
       "      <th>total</th>\n",
       "      <th>percent</th>\n",
       "    </tr>\n",
       "  </thead>\n",
       "  <tbody>\n",
       "    <tr>\n",
       "      <th>track</th>\n",
       "      <td>0</td>\n",
       "      <td>0.0</td>\n",
       "    </tr>\n",
       "    <tr>\n",
       "      <th>artist</th>\n",
       "      <td>0</td>\n",
       "      <td>0.0</td>\n",
       "    </tr>\n",
       "    <tr>\n",
       "      <th>target</th>\n",
       "      <td>0</td>\n",
       "      <td>0.0</td>\n",
       "    </tr>\n",
       "    <tr>\n",
       "      <th>sections</th>\n",
       "      <td>0</td>\n",
       "      <td>0.0</td>\n",
       "    </tr>\n",
       "    <tr>\n",
       "      <th>chorus_hit</th>\n",
       "      <td>0</td>\n",
       "      <td>0.0</td>\n",
       "    </tr>\n",
       "  </tbody>\n",
       "</table>\n",
       "</div>\n",
       "      <button class=\"colab-df-convert\" onclick=\"convertToInteractive('df-4bb29b5f-de8e-49e0-83a7-3c210e0ec4e0')\"\n",
       "              title=\"Convert this dataframe to an interactive table.\"\n",
       "              style=\"display:none;\">\n",
       "        \n",
       "  <svg xmlns=\"http://www.w3.org/2000/svg\" height=\"24px\"viewBox=\"0 0 24 24\"\n",
       "       width=\"24px\">\n",
       "    <path d=\"M0 0h24v24H0V0z\" fill=\"none\"/>\n",
       "    <path d=\"M18.56 5.44l.94 2.06.94-2.06 2.06-.94-2.06-.94-.94-2.06-.94 2.06-2.06.94zm-11 1L8.5 8.5l.94-2.06 2.06-.94-2.06-.94L8.5 2.5l-.94 2.06-2.06.94zm10 10l.94 2.06.94-2.06 2.06-.94-2.06-.94-.94-2.06-.94 2.06-2.06.94z\"/><path d=\"M17.41 7.96l-1.37-1.37c-.4-.4-.92-.59-1.43-.59-.52 0-1.04.2-1.43.59L10.3 9.45l-7.72 7.72c-.78.78-.78 2.05 0 2.83L4 21.41c.39.39.9.59 1.41.59.51 0 1.02-.2 1.41-.59l7.78-7.78 2.81-2.81c.8-.78.8-2.07 0-2.86zM5.41 20L4 18.59l7.72-7.72 1.47 1.35L5.41 20z\"/>\n",
       "  </svg>\n",
       "      </button>\n",
       "      \n",
       "  <style>\n",
       "    .colab-df-container {\n",
       "      display:flex;\n",
       "      flex-wrap:wrap;\n",
       "      gap: 12px;\n",
       "    }\n",
       "\n",
       "    .colab-df-convert {\n",
       "      background-color: #E8F0FE;\n",
       "      border: none;\n",
       "      border-radius: 50%;\n",
       "      cursor: pointer;\n",
       "      display: none;\n",
       "      fill: #1967D2;\n",
       "      height: 32px;\n",
       "      padding: 0 0 0 0;\n",
       "      width: 32px;\n",
       "    }\n",
       "\n",
       "    .colab-df-convert:hover {\n",
       "      background-color: #E2EBFA;\n",
       "      box-shadow: 0px 1px 2px rgba(60, 64, 67, 0.3), 0px 1px 3px 1px rgba(60, 64, 67, 0.15);\n",
       "      fill: #174EA6;\n",
       "    }\n",
       "\n",
       "    [theme=dark] .colab-df-convert {\n",
       "      background-color: #3B4455;\n",
       "      fill: #D2E3FC;\n",
       "    }\n",
       "\n",
       "    [theme=dark] .colab-df-convert:hover {\n",
       "      background-color: #434B5C;\n",
       "      box-shadow: 0px 1px 3px 1px rgba(0, 0, 0, 0.15);\n",
       "      filter: drop-shadow(0px 1px 2px rgba(0, 0, 0, 0.3));\n",
       "      fill: #FFFFFF;\n",
       "    }\n",
       "  </style>\n",
       "\n",
       "      <script>\n",
       "        const buttonEl =\n",
       "          document.querySelector('#df-4bb29b5f-de8e-49e0-83a7-3c210e0ec4e0 button.colab-df-convert');\n",
       "        buttonEl.style.display =\n",
       "          google.colab.kernel.accessAllowed ? 'block' : 'none';\n",
       "\n",
       "        async function convertToInteractive(key) {\n",
       "          const element = document.querySelector('#df-4bb29b5f-de8e-49e0-83a7-3c210e0ec4e0');\n",
       "          const dataTable =\n",
       "            await google.colab.kernel.invokeFunction('convertToInteractive',\n",
       "                                                     [key], {});\n",
       "          if (!dataTable) return;\n",
       "\n",
       "          const docLinkHtml = 'Like what you see? Visit the ' +\n",
       "            '<a target=\"_blank\" href=https://colab.research.google.com/notebooks/data_table.ipynb>data table notebook</a>'\n",
       "            + ' to learn more about interactive tables.';\n",
       "          element.innerHTML = '';\n",
       "          dataTable['output_type'] = 'display_data';\n",
       "          await google.colab.output.renderOutput(dataTable, element);\n",
       "          const docLink = document.createElement('div');\n",
       "          docLink.innerHTML = docLinkHtml;\n",
       "          element.appendChild(docLink);\n",
       "        }\n",
       "      </script>\n",
       "    </div>\n",
       "  </div>\n",
       "  "
      ],
      "text/plain": [
       "            total  percent\n",
       "track           0      0.0\n",
       "artist          0      0.0\n",
       "target          0      0.0\n",
       "sections        0      0.0\n",
       "chorus_hit      0      0.0"
      ]
     },
     "execution_count": 10,
     "metadata": {},
     "output_type": "execute_result"
    }
   ],
   "source": [
    "total = data.isnull().sum().sort_values(ascending=False)\n",
    "percent = (data.isnull().sum()/data.isnull().count()).sort_values(ascending=False)\n",
    "missing_data = pd.concat([total,percent],axis=1,keys=[\"total\",\"percent\"])\n",
    "missing_data.head()\n"
   ]
  },
  {
   "cell_type": "markdown",
   "metadata": {
    "id": "3IeI-muhTRVk"
   },
   "source": [
    "There are no missing values in the Data."
   ]
  },
  {
   "cell_type": "markdown",
   "metadata": {
    "id": "28ho92dTTj7j"
   },
   "source": [
    "Let's check how many categorical and numerical values are present in the data."
   ]
  },
  {
   "cell_type": "code",
   "execution_count": 11,
   "metadata": {
    "colab": {
     "base_uri": "https://localhost:8080/",
     "height": 0
    },
    "id": "lK2zLil7ThMD",
    "outputId": "f6ab24b0-46c4-4973-d579-e04041bed5f0"
   },
   "outputs": [
    {
     "data": {
      "text/plain": [
       "17"
      ]
     },
     "execution_count": 11,
     "metadata": {},
     "output_type": "execute_result"
    }
   ],
   "source": [
    "len(data._get_numeric_data().columns)\n"
   ]
  },
  {
   "cell_type": "markdown",
   "metadata": {
    "id": "ArcGmzAKUdf0"
   },
   "source": [
    "There are 17 numeric columns and 3 categorical columns."
   ]
  },
  {
   "cell_type": "code",
   "execution_count": 12,
   "metadata": {
    "colab": {
     "base_uri": "https://localhost:8080/",
     "height": 0
    },
    "id": "H03dc2V3VWUC",
    "outputId": "3b75f634-ee03-4c77-b85e-7f041351250b"
   },
   "outputs": [
    {
     "name": "stdout",
     "output_type": "stream",
     "text": [
      "Index(['track', 'artist', 'uri'], dtype='object')\n"
     ]
    }
   ],
   "source": [
    "categorical_cols=data.columns[data.dtypes =='object']\n",
    "print(categorical_cols)\n"
   ]
  },
  {
   "cell_type": "markdown",
   "metadata": {
    "id": "TfeV0OEU9UL_"
   },
   "source": [
    "# Data Preprocessing"
   ]
  },
  {
   "cell_type": "markdown",
   "metadata": {
    "id": "tlvGZgZTgsZt"
   },
   "source": [
    "We are performing following steps in preprocessing:\n",
    "\n",
    "*   Removing categorical variables\n",
    "*   Standard scaling of the data\n",
    "*   Splitted the data in 70%, 15%, 15% as train, validation and test dataset\n",
    "\n",
    "\n",
    "\n",
    "\n"
   ]
  },
  {
   "cell_type": "code",
   "execution_count": 13,
   "metadata": {
    "id": "OoTvkZhB9Sxj"
   },
   "outputs": [],
   "source": [
    "def preprocessing(data_df):\n",
    "    data_prev = data_df.copy()\n",
    "\n",
    "    \"\"\" Let's drop the categorical columns for our analysis\n",
    "    \"\"\"\n",
    "    data_df = data_df.drop(['track', 'artist', 'uri'], axis=1)\n",
    "    \n",
    "    y = data_df['target']\n",
    "    X = data_df.drop('target', axis=1)\n",
    "    print(X.shape,y.shape)\n",
    "    \n",
    "    \"\"\" Splitting of data\n",
    "    \"\"\"\n",
    "    X_inter, X_test, y_inter, y_test = train_test_split(X, y, train_size=0.8, test_size=0.2,shuffle=True, random_state=1)\n",
    "\n",
    "    X_train, X_val, y_train, y_val = train_test_split(X_inter, y_inter, train_size=0.75, test_size=0.25, shuffle=True, random_state=1)\n",
    "\n",
    "    \"\"\" Standard Scaling of data\n",
    "    \"\"\"\n",
    "    scaler = StandardScaler()\n",
    "    \"\"\" Only passing training set to avoid data leakage\n",
    "    \"\"\"\n",
    "    scaler.fit(X_train)\n",
    "    X_train = pd.DataFrame(scaler.transform(X_train), index=X_train.index, columns=X_train.columns)\n",
    "    X_val = pd.DataFrame(scaler.transform(X_val), index=X_val.index, columns=X_val.columns)\n",
    "    X_test = pd.DataFrame(scaler.transform(X_test), index=X_test.index, columns=X_test.columns)\n",
    "\n",
    "    return X_train, X_test, X_val, y_train, y_test, y_val\n"
   ]
  },
  {
   "cell_type": "code",
   "execution_count": 14,
   "metadata": {
    "colab": {
     "base_uri": "https://localhost:8080/",
     "height": 0
    },
    "id": "gdIKyWNd-AgA",
    "outputId": "1c9f22dd-bc4d-4724-dd33-f85be131d524"
   },
   "outputs": [
    {
     "name": "stdout",
     "output_type": "stream",
     "text": [
      "(41106, 16) (41106,)\n"
     ]
    }
   ],
   "source": [
    "X_train, X_test, X_val, y_train, y_test, y_val = preprocessing(data)"
   ]
  },
  {
   "cell_type": "code",
   "execution_count": 15,
   "metadata": {
    "colab": {
     "base_uri": "https://localhost:8080/",
     "height": 0
    },
    "id": "e6adQwXm-uYJ",
    "outputId": "b227ecb9-8358-4e02-a47d-6f972a63eb9f"
   },
   "outputs": [
    {
     "name": "stdout",
     "output_type": "stream",
     "text": [
      "(24663, 16)\n",
      "(8222, 16)\n",
      "(8221, 16)\n"
     ]
    }
   ],
   "source": [
    "print(X_train.shape)\n",
    "print(X_test.shape)\n",
    "print(X_val.shape)\n"
   ]
  },
  {
   "cell_type": "code",
   "execution_count": 16,
   "metadata": {
    "colab": {
     "base_uri": "https://localhost:8080/",
     "height": 0
    },
    "id": "6A7_fJ9Cj3zj",
    "outputId": "f826bbf7-47e3-4e08-de71-57fc1a7a0e18"
   },
   "outputs": [
    {
     "name": "stdout",
     "output_type": "stream",
     "text": [
      "(24663,)\n",
      "(8222,)\n",
      "(8221,)\n"
     ]
    }
   ],
   "source": [
    "print(y_train.shape)\n",
    "print(y_test.shape)\n",
    "print(y_val.shape)\n"
   ]
  },
  {
   "cell_type": "markdown",
   "metadata": {
    "id": "CqYu1lbmEn3y"
   },
   "source": [
    "# Model Training\n",
    "\n",
    "\n"
   ]
  },
  {
   "cell_type": "markdown",
   "metadata": {
    "id": "C_tjKQPhQG_9"
   },
   "source": [
    "## Logistic Regression (softmax regression)\n",
    "\n",
    "\n"
   ]
  },
  {
   "cell_type": "code",
   "execution_count": 17,
   "metadata": {
    "id": "OP7uAElR-3Pr"
   },
   "outputs": [],
   "source": [
    "def Logistic_regression(solver,max_iter=100,C=1,penalty=None):\n",
    "  model = LogisticRegression(solver=solver,C=C, max_iter=max_iter,penalty=None)\n",
    "  model.fit(X_train, y_train)\n",
    "  n_scores_val = model.score(X_val, y_val)\n",
    "  n_scores_train = model.score(X_train, y_train)\n",
    "  print('Mean training Accuracy:',n_scores_train)\n",
    "  print('Mean validation Accuracy:',n_scores_val)\n",
    "  return n_scores_train, n_scores_val"
   ]
  },
  {
   "cell_type": "code",
   "execution_count": 18,
   "metadata": {
    "colab": {
     "base_uri": "https://localhost:8080/",
     "height": 0
    },
    "id": "nj51LBJWS3EZ",
    "outputId": "b674d9c3-0f41-4a8b-f262-61235d554861"
   },
   "outputs": [
    {
     "name": "stdout",
     "output_type": "stream",
     "text": [
      "Hyper parameter - Solver:  lbfgs \n",
      "\n",
      "Mean training Accuracy: 0.7421643757855898\n",
      "Mean validation Accuracy: 0.7404208733730689\n",
      "-------------------------------------------- \n",
      "\n",
      "Hyper parameter - Solver:  newton-cg \n",
      "\n",
      "Mean training Accuracy: 0.7421643757855898\n",
      "Mean validation Accuracy: 0.7404208733730689\n",
      "-------------------------------------------- \n",
      "\n",
      "Hyper parameter - Solver:  sag \n",
      "\n",
      "Mean training Accuracy: 0.7421643757855898\n",
      "Mean validation Accuracy: 0.7404208733730689\n",
      "-------------------------------------------- \n",
      "\n",
      "Hyper parameter - Solver:  saga \n",
      "\n",
      "Mean training Accuracy: 0.7421643757855898\n",
      "Mean validation Accuracy: 0.7404208733730689\n",
      "-------------------------------------------- \n",
      "\n"
     ]
    }
   ],
   "source": [
    "solver_list=[\"lbfgs\", \"newton-cg\", \"sag\", \"saga\"]\n",
    "for e in solver_list:\n",
    "  print(\"Hyper parameter - Solver: \", e, \"\\n\")\n",
    "  Logistic_regression(e)\n",
    "  print(\"-------------------------------------------- \\n\")"
   ]
  },
  {
   "cell_type": "code",
   "execution_count": 19,
   "metadata": {
    "colab": {
     "base_uri": "https://localhost:8080/",
     "height": 0
    },
    "id": "ognyz0u9vnID",
    "outputId": "21878fc0-f8b7-4ddf-a3e6-68d8eaf33b9c"
   },
   "outputs": [
    {
     "name": "stdout",
     "output_type": "stream",
     "text": [
      "Hyper parameter - Solver:  lbfgs \n",
      "\n",
      "Mean training Accuracy: 0.7421643757855898\n",
      "Mean validation Accuracy: 0.7404208733730689\n",
      "-------------------------------------------- \n",
      "\n",
      "Hyper parameter - Solver:  newton-cg \n",
      "\n",
      "Mean training Accuracy: 0.7421643757855898\n",
      "Mean validation Accuracy: 0.7404208733730689\n",
      "-------------------------------------------- \n",
      "\n",
      "Hyper parameter - Solver:  sag \n",
      "\n",
      "Mean training Accuracy: 0.7421643757855898\n",
      "Mean validation Accuracy: 0.7404208733730689\n",
      "-------------------------------------------- \n",
      "\n",
      "Hyper parameter - Solver:  saga \n",
      "\n",
      "Mean training Accuracy: 0.7421643757855898\n",
      "Mean validation Accuracy: 0.7404208733730689\n",
      "-------------------------------------------- \n",
      "\n"
     ]
    }
   ],
   "source": [
    "# Using hyper parameter - solver (\"lbfgs\", \"newton-cg\", \"sag\", \"saga\") and max_iteration=1000, adding regularization\n",
    "solver_list=[\"lbfgs\", \"newton-cg\", \"sag\", \"saga\"]\n",
    "for e in solver_list:\n",
    "  print(\"Hyper parameter - Solver: \", e, \"\\n\")\n",
    "  Logistic_regression(solver=e,max_iter=1000,C=0.2)\n",
    "  print(\"-------------------------------------------- \\n\")"
   ]
  },
  {
   "cell_type": "code",
   "execution_count": 20,
   "metadata": {
    "colab": {
     "base_uri": "https://localhost:8080/",
     "height": 0
    },
    "id": "KzmtbJHgv_Bh",
    "outputId": "b5a49639-05ce-4482-b298-5104a93ea99b"
   },
   "outputs": [
    {
     "name": "stdout",
     "output_type": "stream",
     "text": [
      "Hyper parameter - Solver:  lbfgs\n",
      "Mean training Accuracy: 0.7421643757855898\n",
      "Mean validation Accuracy: 0.7404208733730689\n",
      "\n",
      "\n",
      "-------------------------------------------- \n",
      "\n",
      "Hyper parameter - Solver:  sag\n",
      "Mean training Accuracy: 0.7421643757855898\n",
      "Mean validation Accuracy: 0.7404208733730689\n",
      "\n",
      "\n",
      "-------------------------------------------- \n",
      "\n",
      "Hyper parameter - Solver:  saga\n",
      "Mean training Accuracy: 0.7421643757855898\n",
      "Mean validation Accuracy: 0.7404208733730689\n",
      "\n",
      "\n",
      "-------------------------------------------- \n",
      "\n"
     ]
    }
   ],
   "source": [
    "# Using hyper parameter - solver (\"lbfgs\", \"sag\", \"saga\") and max_iteration=100\n",
    "solver_list=[\"lbfgs\",\"sag\", \"saga\"]\n",
    "for e in solver_list:\n",
    "  print(\"Hyper parameter - Solver: \", e)\n",
    "  Logistic_regression(solver=e,C=10)\n",
    "  print(\"\\n\")\n",
    "  print(\"-------------------------------------------- \\n\")"
   ]
  },
  {
   "cell_type": "code",
   "execution_count": 21,
   "metadata": {
    "colab": {
     "base_uri": "https://localhost:8080/",
     "height": 0
    },
    "id": "9gur0d5lxgWy",
    "outputId": "08737f91-9bc2-421d-e702-ecdb351fe19e"
   },
   "outputs": [
    {
     "name": "stdout",
     "output_type": "stream",
     "text": [
      "Hyper parameter - Solver:  lbfgs \n",
      "\n",
      "Mean training Accuracy: 0.7421643757855898\n",
      "Mean validation Accuracy: 0.7404208733730689\n",
      "-------------------------------------------- \n",
      "\n",
      "Hyper parameter - Solver:  newton-cg \n",
      "\n",
      "Mean training Accuracy: 0.7421643757855898\n",
      "Mean validation Accuracy: 0.7404208733730689\n",
      "-------------------------------------------- \n",
      "\n",
      "Hyper parameter - Solver:  sag \n",
      "\n",
      "Mean training Accuracy: 0.7421643757855898\n",
      "Mean validation Accuracy: 0.7404208733730689\n",
      "-------------------------------------------- \n",
      "\n",
      "Hyper parameter - Solver:  saga \n",
      "\n",
      "Mean training Accuracy: 0.7421643757855898\n",
      "Mean validation Accuracy: 0.7404208733730689\n",
      "-------------------------------------------- \n",
      "\n"
     ]
    }
   ],
   "source": [
    "# Using hyper parameter - solver (\"lbfgs\", \"newton-cg\", \"sag\", \"saga\") and C=0.8\n",
    "solver_list=[\"lbfgs\", \"newton-cg\", \"sag\", \"saga\"]\n",
    "for e in solver_list:\n",
    "  print(\"Hyper parameter - Solver: \", e, \"\\n\")\n",
    "  Logistic_regression(solver=e,C=0.8)\n",
    "  print(\"-------------------------------------------- \\n\")"
   ]
  },
  {
   "cell_type": "code",
   "execution_count": 43,
   "metadata": {
    "colab": {
     "base_uri": "https://localhost:8080/"
    },
    "id": "MtQ7AfEk9Vi1",
    "outputId": "f0ababe8-ce18-44b8-e996-e0bf34a58761"
   },
   "outputs": [
    {
     "name": "stdout",
     "output_type": "stream",
     "text": [
      "Hyper parameter - Penalty:  l1 \n",
      "\n",
      "Mean training Accuracy: 0.7421643757855898\n",
      "Mean validation Accuracy: 0.7404208733730689\n",
      "-------------------------------------------- \n",
      "\n",
      "Hyper parameter - Penalty:  l2 \n",
      "\n",
      "Mean training Accuracy: 0.7421643757855898\n",
      "Mean validation Accuracy: 0.7404208733730689\n",
      "-------------------------------------------- \n",
      "\n",
      "Hyper parameter - Penalty:  elasticnet \n",
      "\n",
      "Mean training Accuracy: 0.7421643757855898\n",
      "Mean validation Accuracy: 0.7404208733730689\n",
      "-------------------------------------------- \n",
      "\n"
     ]
    }
   ],
   "source": [
    "penalty=['l1', 'l2', 'elasticnet']\n",
    "for e in penalty:\n",
    "  print(\"Hyper parameter - Penalty: \", e, \"\\n\")\n",
    "  Logistic_regression(solver=\"lbfgs\",penalty=e,C=0.0001)\n",
    "  print(\"-------------------------------------------- \\n\")"
   ]
  },
  {
   "cell_type": "markdown",
   "metadata": {
    "id": "iKdtTALt77Gz"
   },
   "source": [
    "**Observation:** \n",
    "\n",
    "\n",
    "\n",
    "Looking at the results seems that the choice of solver hyperparameter does not have a significant impact on the performance of logistic regression for the given dataset and problem.\n",
    "\n",
    "All four solvers (lbfgs, newton-cg, sag, and saga) gave similar mean training and validation accuracies, with no clear indication that any one solver is better than the others. Therefore, it may be best to choose the solver based on other considerations, such as the computational efficiency or suitability for the problem at hand.\n",
    "\n",
    "Regardless of the choice of solver, regularization penalty, or maximum iterations, the mean training and validation accuracies remained consistent at around 0.74. Similarly, changing the value of C or using different penalties (l1, l2, elasticnet) did not result in any noticeable improvement in the model's performance.\n",
    "\n",
    "One possible explanation for the lack of significant improvement is that the dataset may be relatively simple or linearly separable, and therefore logistic regression with default hyperparameters is already able to capture the underlying patterns well. \n",
    "\n",
    "Another possible reason is model has already converged to the optimal solution and further hyperparameter tuning won't result in any significant improvement. In such cases, changing the hyperparameters may not cause significant changes in the model's accuracy.\n",
    "\n",
    "\n",
    "\n",
    "\n"
   ]
  },
  {
   "cell_type": "markdown",
   "metadata": {
    "id": "Vr6r3Yn4eBlq"
   },
   "source": [
    "## Support Vector machines with hyperparameter tunning"
   ]
  },
  {
   "cell_type": "code",
   "execution_count": 23,
   "metadata": {
    "id": "-ygxaxE-Qze3"
   },
   "outputs": [],
   "source": [
    "C_list =  [0.1, 1, 10]\n",
    "Gamma_list = [1, 0.1, 0.01]\n",
    "def try_kernels(kernel_name,c=None,g=None,cm=True):\n",
    "  print(\"Fitting model with {} kernal\".format(kernel_name))\n",
    "  if c is not None:\n",
    "    model = SVC(kernel=kernel_name,C=c,gamma=g)\n",
    "  else:\n",
    "    model = SVC(kernel=kernel_name)\n",
    "  model.fit(X_train, y_train)\n",
    "  y_pred = model.predict(X_test)\n",
    "  training_acc=model.score(X_train,y_train)\n",
    "  validation_acc=model.score(X_test,y_test)\n",
    "  print(\"training accuracy with hyperparams:\", model.score(X_train,y_train), \"\\n\")\n",
    "  print(\"validation accuracy with hyperparams:\", model.score(X_test,y_test), \"\\n\")\n",
    "  if cm:\n",
    "    cm=metrics.confusion_matrix(y_true=y_test, y_pred=y_pred)\n",
    "    matplot.subplots(figsize=(10, 6))\n",
    "    sns.heatmap(cm, annot = True, fmt = 'g')\n",
    "    matplot.xlabel(\"Predicted\")\n",
    "    matplot.ylabel(\"Actual\")\n",
    "    matplot.title(\"Confusion Matrix\")\n",
    "    matplot.show()\n",
    "  \n",
    "\n",
    "  print(\"--------------------------------------------------------------------------------\")\n",
    "  return training_acc, validation_acc\n"
   ]
  },
  {
   "cell_type": "code",
   "execution_count": 24,
   "metadata": {
    "colab": {
     "base_uri": "https://localhost:8080/",
     "height": 1619
    },
    "id": "ckwTJJ0nlEyJ",
    "outputId": "2899c2a9-47e6-4128-ce12-944cd6cb7952"
   },
   "outputs": [
    {
     "name": "stdout",
     "output_type": "stream",
     "text": [
      "Fitting model with linear kernal\n",
      "training accuracy with hyperparams: 0.7376637067672221 \n",
      "\n",
      "validation accuracy with hyperparams: 0.7397226952079786 \n",
      "\n"
     ]
    },
    {
     "data": {
      "image/png": "[encoded data removed]",
      "text/plain": [
       "<Figure size 720x432 with 2 Axes>"
      ]
     },
     "metadata": {
      "needs_background": "light"
     },
     "output_type": "display_data"
    },
    {
     "name": "stdout",
     "output_type": "stream",
     "text": [
      "--------------------------------------------------------------------------------\n",
      "Fitting model with poly kernal\n",
      "training accuracy with hyperparams: 0.772736487856303 \n",
      "\n",
      "validation accuracy with hyperparams: 0.7664801751398687 \n",
      "\n"
     ]
    },
    {
     "data": {
      "image/png": "[encoded data removed]",
      "text/plain": [
       "<Figure size 720x432 with 2 Axes>"
      ]
     },
     "metadata": {
      "needs_background": "light"
     },
     "output_type": "display_data"
    },
    {
     "name": "stdout",
     "output_type": "stream",
     "text": [
      "--------------------------------------------------------------------------------\n",
      "Fitting model with sigmoid kernal\n",
      "training accuracy with hyperparams: 0.6351619835380935 \n",
      "\n",
      "validation accuracy with hyperparams: 0.6365847725614205 \n",
      "\n"
     ]
    },
    {
     "data": {
      "image/png": "[encoded data removed]",
      "text/plain": [
       "<Figure size 720x432 with 2 Axes>"
      ]
     },
     "metadata": {
      "needs_background": "light"
     },
     "output_type": "display_data"
    },
    {
     "name": "stdout",
     "output_type": "stream",
     "text": [
      "--------------------------------------------------------------------------------\n",
      "Fitting model with rbf kernal\n",
      "training accuracy with hyperparams: 0.8092283988160403 \n",
      "\n",
      "validation accuracy with hyperparams: 0.798710775966918 \n",
      "\n"
     ]
    },
    {
     "data": {
      "image/png": "[encoded data removed]",
      "text/plain": [
       "<Figure size 720x432 with 2 Axes>"
      ]
     },
     "metadata": {
      "needs_background": "light"
     },
     "output_type": "display_data"
    },
    {
     "name": "stdout",
     "output_type": "stream",
     "text": [
      "--------------------------------------------------------------------------------\n"
     ]
    }
   ],
   "source": [
    "kernel_list=[\"linear\",\"poly\", \"sigmoid\",\"rbf\"]\n",
    "for i in kernel_list:\n",
    "  try_kernels(i)"
   ]
  },
  {
   "cell_type": "markdown",
   "metadata": {
    "id": "Qf5JbmaPCfZt"
   },
   "source": [
    "**Observation**:\n",
    "\n",
    "The SVM results show that the RBF kernel is performing the best with a training accuracy of 0.809 and validation accuracy of 0.799, followed by the polynomial kernel with a training accuracy of 0.773 and validation accuracy of 0.766. The linear kernel is giving a lower training and validation accuracy of 0.738 and 0.740, respectively. The sigmoid kernel is giving the lowest training and validation accuracy of 0.635 and 0.637, respectively.\n",
    "\n",
    "The RBF kernel is performing well because it is a non-linear kernel function that can map the input data to a higher-dimensional space, making it easier to separate the classes. It is a popular choice as it can fit complex datasets well. On the other hand, the sigmoid kernel is a simpler kernel function that is not suitable for complex datasets. It is better suited for simpler datasets with linearly separable classes.\n",
    "\n"
   ]
  },
  {
   "cell_type": "code",
   "execution_count": 25,
   "metadata": {
    "colab": {
     "base_uri": "https://localhost:8080/",
     "height": 0
    },
    "id": "PPgpWUQD0ml4",
    "outputId": "dbb8f52e-6127-4201-f187-4eb1fb771612"
   },
   "outputs": [
    {
     "name": "stdout",
     "output_type": "stream",
     "text": [
      "Hyperparamters c and g as 0.1 1\n",
      "Fitting model with rbf kernal\n",
      "training accuracy with hyperparams: 0.6064955601508333 \n",
      "\n",
      "validation accuracy with hyperparams: 0.5807589394307954 \n",
      "\n",
      "--------------------------------------------------------------------------------\n",
      "\n",
      "Hyperparamters c and g as 0.1 0.1\n",
      "Fitting model with rbf kernal\n",
      "training accuracy with hyperparams: 0.7872927056724648 \n",
      "\n",
      "validation accuracy with hyperparams: 0.787278034541474 \n",
      "\n",
      "--------------------------------------------------------------------------------\n",
      "\n",
      "Hyperparamters c and g as 0.1 0.01\n",
      "Fitting model with rbf kernal\n",
      "training accuracy with hyperparams: 0.747313789887686 \n",
      "\n",
      "validation accuracy with hyperparams: 0.7541960593529555 \n",
      "\n",
      "--------------------------------------------------------------------------------\n",
      "\n",
      "Hyperparamters c and g as 1 1\n",
      "Fitting model with rbf kernal\n",
      "training accuracy with hyperparams: 0.9812269391396018 \n",
      "\n",
      "validation accuracy with hyperparams: 0.7488445633665775 \n",
      "\n",
      "--------------------------------------------------------------------------------\n",
      "\n",
      "Hyperparamters c and g as 1 0.1\n",
      "Fitting model with rbf kernal\n",
      "training accuracy with hyperparams: 0.8235413372258038 \n",
      "\n",
      "validation accuracy with hyperparams: 0.801386523960107 \n",
      "\n",
      "--------------------------------------------------------------------------------\n",
      "\n",
      "Hyperparamters c and g as 1 0.01\n",
      "Fitting model with rbf kernal\n",
      "training accuracy with hyperparams: 0.772736487856303 \n",
      "\n",
      "validation accuracy with hyperparams: 0.780345414740939 \n",
      "\n",
      "--------------------------------------------------------------------------------\n",
      "\n",
      "Hyperparamters c and g as 10 1\n",
      "Fitting model with rbf kernal\n",
      "training accuracy with hyperparams: 0.9997161740258688 \n",
      "\n",
      "validation accuracy with hyperparams: 0.7464120651909512 \n",
      "\n",
      "--------------------------------------------------------------------------------\n",
      "\n",
      "Hyperparamters c and g as 10 0.1\n",
      "Fitting model with rbf kernal\n",
      "training accuracy with hyperparams: 0.8748327454081012 \n",
      "\n",
      "validation accuracy with hyperparams: 0.7977377766966675 \n",
      "\n",
      "--------------------------------------------------------------------------------\n",
      "\n",
      "Hyperparamters c and g as 10 0.01\n",
      "Fitting model with rbf kernal\n",
      "training accuracy with hyperparams: 0.7925232129100271 \n",
      "\n",
      "validation accuracy with hyperparams: 0.7953052785210412 \n",
      "\n",
      "--------------------------------------------------------------------------------\n",
      "\n"
     ]
    }
   ],
   "source": [
    "for c in C_list:\n",
    "  for g in Gamma_list:\n",
    "    print(\"Hyperparamters c and g as\",c,g)\n",
    "    try_kernels(c=c,g=g,cm=False,kernel_name=\"rbf\")\n",
    "    print()"
   ]
  },
  {
   "cell_type": "markdown",
   "metadata": {
    "id": "NIgHD7SnFiIn"
   },
   "source": [
    "**Observation**:\n",
    "\n",
    "The analysis of the results reveals that the choice of hyperparameters has a significant impact on the performance of the SVM model. For the hyperparameters combination of C=0.1 and gamma=1, the model achieved the lowest accuracy, with a training accuracy of 0.6065 and a validation accuracy of 0.5808. In contrast, the highest training accuracy of 0.9997 was achieved with the hyperparameters combination of C=10 and gamma=1. However, the corresponding validation accuracy was low, at 0.7464.\n",
    "\n",
    "I think the best combination of hyperparameters for the RBF kernel appears to be c=1 and g=0.1, as it achieved the highest validation accuracy of 0.801.\n",
    "\n",
    "\n"
   ]
  },
  {
   "cell_type": "markdown",
   "metadata": {
    "id": "XeNIKe3t7XZe"
   },
   "source": [
    "## Random Forest Classifier"
   ]
  },
  {
   "cell_type": "code",
   "execution_count": 26,
   "metadata": {
    "id": "uyMc1zcMlbg6"
   },
   "outputs": [],
   "source": [
    "def perform_random_forest(X_train, y_train, X_val, y_val, X_test, y_test,min_samples_leaf=1,max_leaf_nodes=None,n_estimators=100, max_depth=None,feature_analysis=False,cm=True):\n",
    "    rf_clf = RandomForestClassifier(n_estimators=n_estimators, max_depth=max_depth,min_samples_leaf=min_samples_leaf,max_leaf_nodes=max_leaf_nodes)\n",
    "    rf_clf.fit(X_train, y_train)\n",
    "    \n",
    "    # Evaluate the training and validation accuracy\n",
    "    train_acc = rf_clf.score(X_train, y_train)\n",
    "    val_acc = rf_clf.score(X_val, y_val)\n",
    "    # test_acc = rf_clf.score(X_test, y_test)\n",
    "    \n",
    "    print(f'Training accuracy: {train_acc:.4f}')\n",
    "    print(f'Validation accuracy: {val_acc:.4f}')\n",
    "    # print(f'Testing accuracy: {test_acc:.4f}')\n",
    "    \n",
    "    # Analyze feature importance\n",
    "    if feature_analysis:\n",
    "        feature_importance = rf_clf.feature_importances_\n",
    "        sorted_idx = feature_importance.argsort()[::-1]\n",
    "        print(\"Feature Importance Ranking:\")\n",
    "        for idx in sorted_idx:\n",
    "            print(f'Feature {idx+1}: {feature_importance[idx]:.4f}')\n",
    "            \n",
    "            \n",
    "    # Generate confusion matrix\n",
    "    if cm:\n",
    "      y_pred = rf_clf.predict(X_test)\n",
    "      cm = confusion_matrix(y_test, y_pred)\n",
    "      print(\"Confusion Matrix:\")\n",
    "      \n",
    "      matplot.subplots(figsize=(10, 6))\n",
    "      sns.heatmap(cm, annot = True, fmt = 'g')\n",
    "      matplot.xlabel(\"Predicted\")\n",
    "      matplot.ylabel(\"Actual\")\n",
    "      matplot.title(\"Confusion Matrix\")\n",
    "      matplot.show()  \n",
    "    return train_acc, val_acc     \n",
    "        "
   ]
  },
  {
   "cell_type": "code",
   "execution_count": 27,
   "metadata": {
    "colab": {
     "base_uri": "https://localhost:8080/",
     "height": 473
    },
    "id": "vqHe7JkelfP2",
    "outputId": "79caa677-58ca-465c-8efc-7924416261a9"
   },
   "outputs": [
    {
     "name": "stdout",
     "output_type": "stream",
     "text": [
      "Training accuracy: 0.9997\n",
      "Validation accuracy: 0.8037\n",
      "Confusion Matrix:\n"
     ]
    },
    {
     "data": {
      "image/png": "[encoded data removed]",
      "text/plain": [
       "<Figure size 720x432 with 2 Axes>"
      ]
     },
     "metadata": {
      "needs_background": "light"
     },
     "output_type": "display_data"
    },
    {
     "data": {
      "text/plain": [
       "(0.9997161740258688, 0.8036735190366135)"
      ]
     },
     "execution_count": 27,
     "metadata": {},
     "output_type": "execute_result"
    }
   ],
   "source": [
    "perform_random_forest(X_train, y_train, X_val, y_val, X_test, y_test)"
   ]
  },
  {
   "cell_type": "markdown",
   "metadata": {
    "id": "oq99M2DfGQb-"
   },
   "source": [
    "**Observation**:\n",
    "\n",
    "Very High training accuracy indicate that model is overfitting of the data."
   ]
  },
  {
   "cell_type": "code",
   "execution_count": 28,
   "metadata": {
    "colab": {
     "base_uri": "https://localhost:8080/",
     "height": 473
    },
    "id": "vluNpx-FlhVb",
    "outputId": "9e0545ef-db1b-4333-ffff-67d88442b30a"
   },
   "outputs": [
    {
     "name": "stdout",
     "output_type": "stream",
     "text": [
      "Training accuracy: 0.7692\n",
      "Validation accuracy: 0.7665\n",
      "Confusion Matrix:\n"
     ]
    },
    {
     "data": {
      "image/png": "[encoded data removed]",
      "text/plain": [
       "<Figure size 720x432 with 2 Axes>"
      ]
     },
     "metadata": {
      "needs_background": "light"
     },
     "output_type": "display_data"
    },
    {
     "data": {
      "text/plain": [
       "(0.7692089364635284, 0.7664517698576816)"
      ]
     },
     "execution_count": 28,
     "metadata": {},
     "output_type": "execute_result"
    }
   ],
   "source": [
    "# Use Random Forest with different values of hyperparameters\n",
    "perform_random_forest(X_train, y_train, X_val, y_val, X_test, y_test, n_estimators=500, max_depth=5)"
   ]
  },
  {
   "cell_type": "markdown",
   "metadata": {
    "id": "7WaNtuyjG0pc"
   },
   "source": [
    "**Observation**:\n",
    "\n",
    "The random forest model was trained with hyperparameter tuning by setting the number of estimators to 500 and the maximum depth to 5. The resulting training accuracy was 0.7709 and the validation accuracy was 0.7654. The validation accuracy did not improve compared to the untuned random forest model, but the training accuracy decreased, indicating that the model might be less overfit to the training data. \n",
    "\n",
    "\n"
   ]
  },
  {
   "cell_type": "code",
   "execution_count": 29,
   "metadata": {
    "colab": {
     "base_uri": "https://localhost:8080/",
     "height": 768
    },
    "id": "kZcWksK0ljP9",
    "outputId": "ba3887a1-1023-4b48-955d-e083647f7fba"
   },
   "outputs": [
    {
     "name": "stdout",
     "output_type": "stream",
     "text": [
      "Training accuracy: 0.8336\n",
      "Validation accuracy: 0.7883\n",
      "Feature Importance Ranking:\n",
      "Feature 8: 0.2885\n",
      "Feature 1: 0.1434\n",
      "Feature 7: 0.1318\n",
      "Feature 2: 0.0754\n",
      "Feature 4: 0.0639\n",
      "Feature 12: 0.0617\n",
      "Feature 6: 0.0607\n",
      "Feature 10: 0.0493\n",
      "Feature 16: 0.0347\n",
      "Feature 15: 0.0214\n",
      "Feature 11: 0.0181\n",
      "Feature 9: 0.0175\n",
      "Feature 14: 0.0146\n",
      "Feature 3: 0.0075\n",
      "Feature 5: 0.0070\n",
      "Feature 13: 0.0044\n",
      "Confusion Matrix:\n"
     ]
    },
    {
     "data": {
      "image/png": "[encoded data removed]",
      "text/plain": [
       "<Figure size 720x432 with 2 Axes>"
      ]
     },
     "metadata": {
      "needs_background": "light"
     },
     "output_type": "display_data"
    },
    {
     "data": {
      "text/plain": [
       "(0.833596886023598, 0.788346916433524)"
      ]
     },
     "execution_count": 29,
     "metadata": {},
     "output_type": "execute_result"
    }
   ],
   "source": [
    "perform_random_forest(X_train, y_train, X_val, y_val, X_test, y_test, n_estimators=100, max_depth=10,feature_analysis=True)"
   ]
  },
  {
   "cell_type": "markdown",
   "metadata": {
    "id": "hv01v2O6HXoO"
   },
   "source": [
    "**Observation:**\n",
    "\n",
    "The random forest model with hyperparameter tuning and feature analysis has a training accuracy of 0.8334 and a validation accuracy of 0.7880, which is an improvement over the previous model. The feature importance ranking suggests that feature 8 is the most important, followed by features 7 and 1. Features 4, 2, and 12 also have relatively high importance scores. Features 5, 3, and 13 have the lowest importance scores.\n",
    "\n",
    "\n",
    "\n"
   ]
  },
  {
   "cell_type": "code",
   "execution_count": 30,
   "metadata": {
    "colab": {
     "base_uri": "https://localhost:8080/",
     "height": 0
    },
    "id": "R4jIOsx04Z-Q",
    "outputId": "7f8a1bae-f8db-4f79-c4aa-675133a79958"
   },
   "outputs": [
    {
     "name": "stdout",
     "output_type": "stream",
     "text": [
      "Training accuracy: 0.7886\n",
      "Validation accuracy: 0.7772\n"
     ]
    },
    {
     "data": {
      "text/plain": [
       "(0.7886307424076552, 0.7771560637392044)"
      ]
     },
     "execution_count": 30,
     "metadata": {},
     "output_type": "execute_result"
    }
   ],
   "source": [
    "perform_random_forest(X_train, y_train, X_val, y_val, X_test, y_test, n_estimators=50, max_depth=10,feature_analysis=False,max_leaf_nodes=50,min_samples_leaf=5,cm=False)"
   ]
  },
  {
   "cell_type": "code",
   "execution_count": 31,
   "metadata": {
    "colab": {
     "base_uri": "https://localhost:8080/",
     "height": 0
    },
    "id": "JZ9yqgXc4cj2",
    "outputId": "546c8d28-fc8c-49af-db7e-61e2394d3bec"
   },
   "outputs": [
    {
     "name": "stdout",
     "output_type": "stream",
     "text": [
      "Training accuracy: 0.7558\n",
      "Validation accuracy: 0.7578\n"
     ]
    },
    {
     "data": {
      "text/plain": [
       "(0.7558285691116247, 0.7578153509305438)"
      ]
     },
     "execution_count": 31,
     "metadata": {},
     "output_type": "execute_result"
    }
   ],
   "source": [
    "perform_random_forest(X_train, y_train, X_val, y_val, X_test, y_test, n_estimators=10, max_depth=10,feature_analysis=False,max_leaf_nodes=10,min_samples_leaf=100,cm=False)"
   ]
  },
  {
   "cell_type": "code",
   "execution_count": 32,
   "metadata": {
    "colab": {
     "base_uri": "https://localhost:8080/",
     "height": 0
    },
    "id": "YbQgiokm4e8b",
    "outputId": "59fc76d4-4b61-4de2-b568-0907e33e81ca"
   },
   "outputs": [
    {
     "name": "stdout",
     "output_type": "stream",
     "text": [
      "Training accuracy: 0.8681\n",
      "Validation accuracy: 0.7960\n"
     ]
    },
    {
     "data": {
      "text/plain": [
       "(0.8681425617321493, 0.7960102177350687)"
      ]
     },
     "execution_count": 32,
     "metadata": {},
     "output_type": "execute_result"
    }
   ],
   "source": [
    "perform_random_forest(X_train, y_train, X_val, y_val, X_test, y_test, n_estimators=100, max_depth=100,feature_analysis=False,max_leaf_nodes=500,min_samples_leaf=5,cm=False)"
   ]
  },
  {
   "cell_type": "code",
   "execution_count": 33,
   "metadata": {
    "colab": {
     "base_uri": "https://localhost:8080/",
     "height": 0
    },
    "id": "oDw_MiA84w5C",
    "outputId": "a2a185ff-5ef4-43a0-ab57-0ad5f0bc0834"
   },
   "outputs": [
    {
     "name": "stdout",
     "output_type": "stream",
     "text": [
      "Training accuracy: 0.9997\n",
      "Validation accuracy: 0.8012\n"
     ]
    },
    {
     "data": {
      "text/plain": [
       "(0.9997161740258688, 0.8012407249726311)"
      ]
     },
     "execution_count": 33,
     "metadata": {},
     "output_type": "execute_result"
    }
   ],
   "source": [
    "perform_random_forest(X_train, y_train, X_val, y_val, X_test, y_test, n_estimators=100, max_depth=None,feature_analysis=False,max_leaf_nodes=None,min_samples_leaf=1,cm=False)"
   ]
  },
  {
   "cell_type": "markdown",
   "metadata": {
    "id": "irAdz3KDN5FZ"
   },
   "source": [
    "**Observation**:\n",
    "\n",
    "the best performing model is the one with the hyperparameters n_estimators=100, max_depth=100, feature_analysis=False, max_leaf_nodes=500, and min_samples_leaf=5. This model achieved a training accuracy of 0.8681 and a validation accuracy of  0.7981. While the model with the hyperparameters n_estimators=100, max_depth=None, feature_analysis=False, max_leaf_nodes=None, and min_samples_leaf=1 achieved a higher training accuracy of 0.9997, its validation accuracy of 0.8022 is only slightly better than the best performing model, indicating that it might be overfitting."
   ]
  },
  {
   "cell_type": "markdown",
   "metadata": {
    "id": "I_7RuQGc5WfX"
   },
   "source": [
    "## Final individual Models"
   ]
  },
  {
   "cell_type": "code",
   "execution_count": 34,
   "metadata": {
    "colab": {
     "base_uri": "https://localhost:8080/",
     "height": 0
    },
    "id": "Etcec5Za5a7B",
    "outputId": "e403ffc1-7af4-4dbb-a212-933975ab495e"
   },
   "outputs": [
    {
     "name": "stdout",
     "output_type": "stream",
     "text": [
      "Mean training Accuracy: 0.7421643757855898\n",
      "Mean validation Accuracy: 0.7404208733730689\n"
     ]
    }
   ],
   "source": [
    "scores=[]\n",
    "train_acc,val_acc=Logistic_regression(solver=\"lbfgs\",penalty=\"l1\")\n",
    "lr=  LogisticRegression(solver=\"lbfgs\",penalty=\"l2\",max_iter=100,C=1)\n",
    "scores.append(['Logistic Regression','Saga solver',train_acc,val_acc])"
   ]
  },
  {
   "cell_type": "code",
   "execution_count": 35,
   "metadata": {
    "colab": {
     "base_uri": "https://localhost:8080/",
     "height": 178
    },
    "id": "KpsMwPcL-uuL",
    "outputId": "8cff9bc6-fce6-4ca1-9fff-0fa254887af2"
   },
   "outputs": [
    {
     "name": "stdout",
     "output_type": "stream",
     "text": [
      "Fitting model with rbf kernal\n",
      "training accuracy with hyperparams: 0.8235413372258038 \n",
      "\n",
      "validation accuracy with hyperparams: 0.801386523960107 \n",
      "\n",
      "--------------------------------------------------------------------------------\n"
     ]
    },
    {
     "data": {
      "text/html": [
       "<style>#sk-container-id-1 {color: black;background-color: white;}#sk-container-id-1 pre{padding: 0;}#sk-container-id-1 div.sk-toggleable {background-color: white;}#sk-container-id-1 label.sk-toggleable__label {cursor: pointer;display: block;width: 100%;margin-bottom: 0;padding: 0.3em;box-sizing: border-box;text-align: center;}#sk-container-id-1 label.sk-toggleable__label-arrow:before {content: \"▸\";float: left;margin-right: 0.25em;color: #696969;}#sk-container-id-1 label.sk-toggleable__label-arrow:hover:before {color: black;}#sk-container-id-1 div.sk-estimator:hover label.sk-toggleable__label-arrow:before {color: black;}#sk-container-id-1 div.sk-toggleable__content {max-height: 0;max-width: 0;overflow: hidden;text-align: left;background-color: #f0f8ff;}#sk-container-id-1 div.sk-toggleable__content pre {margin: 0.2em;color: black;border-radius: 0.25em;background-color: #f0f8ff;}#sk-container-id-1 input.sk-toggleable__control:checked~div.sk-toggleable__content {max-height: 200px;max-width: 100%;overflow: auto;}#sk-container-id-1 input.sk-toggleable__control:checked~label.sk-toggleable__label-arrow:before {content: \"▾\";}#sk-container-id-1 div.sk-estimator input.sk-toggleable__control:checked~label.sk-toggleable__label {background-color: #d4ebff;}#sk-container-id-1 div.sk-label input.sk-toggleable__control:checked~label.sk-toggleable__label {background-color: #d4ebff;}#sk-container-id-1 input.sk-hidden--visually {border: 0;clip: rect(1px 1px 1px 1px);clip: rect(1px, 1px, 1px, 1px);height: 1px;margin: -1px;overflow: hidden;padding: 0;position: absolute;width: 1px;}#sk-container-id-1 div.sk-estimator {font-family: monospace;background-color: #f0f8ff;border: 1px dotted black;border-radius: 0.25em;box-sizing: border-box;margin-bottom: 0.5em;}#sk-container-id-1 div.sk-estimator:hover {background-color: #d4ebff;}#sk-container-id-1 div.sk-parallel-item::after {content: \"\";width: 100%;border-bottom: 1px solid gray;flex-grow: 1;}#sk-container-id-1 div.sk-label:hover label.sk-toggleable__label {background-color: #d4ebff;}#sk-container-id-1 div.sk-serial::before {content: \"\";position: absolute;border-left: 1px solid gray;box-sizing: border-box;top: 0;bottom: 0;left: 50%;z-index: 0;}#sk-container-id-1 div.sk-serial {display: flex;flex-direction: column;align-items: center;background-color: white;padding-right: 0.2em;padding-left: 0.2em;position: relative;}#sk-container-id-1 div.sk-item {position: relative;z-index: 1;}#sk-container-id-1 div.sk-parallel {display: flex;align-items: stretch;justify-content: center;background-color: white;position: relative;}#sk-container-id-1 div.sk-item::before, #sk-container-id-1 div.sk-parallel-item::before {content: \"\";position: absolute;border-left: 1px solid gray;box-sizing: border-box;top: 0;bottom: 0;left: 50%;z-index: -1;}#sk-container-id-1 div.sk-parallel-item {display: flex;flex-direction: column;z-index: 1;position: relative;background-color: white;}#sk-container-id-1 div.sk-parallel-item:first-child::after {align-self: flex-end;width: 50%;}#sk-container-id-1 div.sk-parallel-item:last-child::after {align-self: flex-start;width: 50%;}#sk-container-id-1 div.sk-parallel-item:only-child::after {width: 0;}#sk-container-id-1 div.sk-dashed-wrapped {border: 1px dashed gray;margin: 0 0.4em 0.5em 0.4em;box-sizing: border-box;padding-bottom: 0.4em;background-color: white;}#sk-container-id-1 div.sk-label label {font-family: monospace;font-weight: bold;display: inline-block;line-height: 1.2em;}#sk-container-id-1 div.sk-label-container {text-align: center;}#sk-container-id-1 div.sk-container {/* jupyter's `normalize.less` sets `[hidden] { display: none; }` but bootstrap.min.css set `[hidden] { display: none !important; }` so we also need the `!important` here to be able to override the default hidden behavior on the sphinx rendered scikit-learn.org. See: https://github.com/scikit-learn/scikit-learn/issues/21755 */display: inline-block !important;position: relative;}#sk-container-id-1 div.sk-text-repr-fallback {display: none;}</style><div id=\"sk-container-id-1\" class=\"sk-top-container\"><div class=\"sk-text-repr-fallback\"><pre>SVC(C=1, gamma=0.1, probability=True)</pre><b>In a Jupyter environment, please rerun this cell to show the HTML representation or trust the notebook. <br />On GitHub, the HTML representation is unable to render, please try loading this page with nbviewer.org.</b></div><div class=\"sk-container\" hidden><div class=\"sk-item\"><div class=\"sk-estimator sk-toggleable\"><input class=\"sk-toggleable__control sk-hidden--visually\" id=\"sk-estimator-id-1\" type=\"checkbox\" checked><label for=\"sk-estimator-id-1\" class=\"sk-toggleable__label sk-toggleable__label-arrow\">SVC</label><div class=\"sk-toggleable__content\"><pre>SVC(C=1, gamma=0.1, probability=True)</pre></div></div></div></div></div>"
      ],
      "text/plain": [
       "SVC(C=1, gamma=0.1, probability=True)"
      ]
     },
     "execution_count": 35,
     "metadata": {},
     "output_type": "execute_result"
    }
   ],
   "source": [
    "train_acc,val_acc =try_kernels(c=1,g=0.1,cm=False,kernel_name=\"rbf\")\n",
    "scores.append(['SVM','rbf kernel',train_acc,val_acc])\n",
    "\n",
    "rbf_kernel_model = SVC(kernel=\"rbf\",C=1,gamma=0.1, probability=True)\n",
    "rbf_kernel_model.fit(X_train, y_train)\n"
   ]
  },
  {
   "cell_type": "code",
   "execution_count": 36,
   "metadata": {
    "colab": {
     "base_uri": "https://localhost:8080/",
     "height": 109
    },
    "id": "ldQiNjnR_Xhg",
    "outputId": "7507bc04-42c0-4087-9e82-67a90e35f40e"
   },
   "outputs": [
    {
     "name": "stdout",
     "output_type": "stream",
     "text": [
      "Training accuracy: 0.8673\n",
      "Validation accuracy: 0.7948\n"
     ]
    },
    {
     "data": {
      "text/html": [
       "<style>#sk-container-id-2 {color: black;background-color: white;}#sk-container-id-2 pre{padding: 0;}#sk-container-id-2 div.sk-toggleable {background-color: white;}#sk-container-id-2 label.sk-toggleable__label {cursor: pointer;display: block;width: 100%;margin-bottom: 0;padding: 0.3em;box-sizing: border-box;text-align: center;}#sk-container-id-2 label.sk-toggleable__label-arrow:before {content: \"▸\";float: left;margin-right: 0.25em;color: #696969;}#sk-container-id-2 label.sk-toggleable__label-arrow:hover:before {color: black;}#sk-container-id-2 div.sk-estimator:hover label.sk-toggleable__label-arrow:before {color: black;}#sk-container-id-2 div.sk-toggleable__content {max-height: 0;max-width: 0;overflow: hidden;text-align: left;background-color: #f0f8ff;}#sk-container-id-2 div.sk-toggleable__content pre {margin: 0.2em;color: black;border-radius: 0.25em;background-color: #f0f8ff;}#sk-container-id-2 input.sk-toggleable__control:checked~div.sk-toggleable__content {max-height: 200px;max-width: 100%;overflow: auto;}#sk-container-id-2 input.sk-toggleable__control:checked~label.sk-toggleable__label-arrow:before {content: \"▾\";}#sk-container-id-2 div.sk-estimator input.sk-toggleable__control:checked~label.sk-toggleable__label {background-color: #d4ebff;}#sk-container-id-2 div.sk-label input.sk-toggleable__control:checked~label.sk-toggleable__label {background-color: #d4ebff;}#sk-container-id-2 input.sk-hidden--visually {border: 0;clip: rect(1px 1px 1px 1px);clip: rect(1px, 1px, 1px, 1px);height: 1px;margin: -1px;overflow: hidden;padding: 0;position: absolute;width: 1px;}#sk-container-id-2 div.sk-estimator {font-family: monospace;background-color: #f0f8ff;border: 1px dotted black;border-radius: 0.25em;box-sizing: border-box;margin-bottom: 0.5em;}#sk-container-id-2 div.sk-estimator:hover {background-color: #d4ebff;}#sk-container-id-2 div.sk-parallel-item::after {content: \"\";width: 100%;border-bottom: 1px solid gray;flex-grow: 1;}#sk-container-id-2 div.sk-label:hover label.sk-toggleable__label {background-color: #d4ebff;}#sk-container-id-2 div.sk-serial::before {content: \"\";position: absolute;border-left: 1px solid gray;box-sizing: border-box;top: 0;bottom: 0;left: 50%;z-index: 0;}#sk-container-id-2 div.sk-serial {display: flex;flex-direction: column;align-items: center;background-color: white;padding-right: 0.2em;padding-left: 0.2em;position: relative;}#sk-container-id-2 div.sk-item {position: relative;z-index: 1;}#sk-container-id-2 div.sk-parallel {display: flex;align-items: stretch;justify-content: center;background-color: white;position: relative;}#sk-container-id-2 div.sk-item::before, #sk-container-id-2 div.sk-parallel-item::before {content: \"\";position: absolute;border-left: 1px solid gray;box-sizing: border-box;top: 0;bottom: 0;left: 50%;z-index: -1;}#sk-container-id-2 div.sk-parallel-item {display: flex;flex-direction: column;z-index: 1;position: relative;background-color: white;}#sk-container-id-2 div.sk-parallel-item:first-child::after {align-self: flex-end;width: 50%;}#sk-container-id-2 div.sk-parallel-item:last-child::after {align-self: flex-start;width: 50%;}#sk-container-id-2 div.sk-parallel-item:only-child::after {width: 0;}#sk-container-id-2 div.sk-dashed-wrapped {border: 1px dashed gray;margin: 0 0.4em 0.5em 0.4em;box-sizing: border-box;padding-bottom: 0.4em;background-color: white;}#sk-container-id-2 div.sk-label label {font-family: monospace;font-weight: bold;display: inline-block;line-height: 1.2em;}#sk-container-id-2 div.sk-label-container {text-align: center;}#sk-container-id-2 div.sk-container {/* jupyter's `normalize.less` sets `[hidden] { display: none; }` but bootstrap.min.css set `[hidden] { display: none !important; }` so we also need the `!important` here to be able to override the default hidden behavior on the sphinx rendered scikit-learn.org. See: https://github.com/scikit-learn/scikit-learn/issues/21755 */display: inline-block !important;position: relative;}#sk-container-id-2 div.sk-text-repr-fallback {display: none;}</style><div id=\"sk-container-id-2\" class=\"sk-top-container\"><div class=\"sk-text-repr-fallback\"><pre>RandomForestClassifier(max_depth=100, max_leaf_nodes=500, min_samples_leaf=5)</pre><b>In a Jupyter environment, please rerun this cell to show the HTML representation or trust the notebook. <br />On GitHub, the HTML representation is unable to render, please try loading this page with nbviewer.org.</b></div><div class=\"sk-container\" hidden><div class=\"sk-item\"><div class=\"sk-estimator sk-toggleable\"><input class=\"sk-toggleable__control sk-hidden--visually\" id=\"sk-estimator-id-2\" type=\"checkbox\" checked><label for=\"sk-estimator-id-2\" class=\"sk-toggleable__label sk-toggleable__label-arrow\">RandomForestClassifier</label><div class=\"sk-toggleable__content\"><pre>RandomForestClassifier(max_depth=100, max_leaf_nodes=500, min_samples_leaf=5)</pre></div></div></div></div></div>"
      ],
      "text/plain": [
       "RandomForestClassifier(max_depth=100, max_leaf_nodes=500, min_samples_leaf=5)"
      ]
     },
     "execution_count": 36,
     "metadata": {},
     "output_type": "execute_result"
    }
   ],
   "source": [
    "train_acc,val_acc =perform_random_forest(X_train, y_train, X_val, y_val, X_test, y_test, n_estimators=100, max_depth=100,feature_analysis=False,max_leaf_nodes=500,min_samples_leaf=5,cm=False)\n",
    "scores.append(['Random Forest','default params',train_acc,val_acc])\n",
    "\n",
    "rf_clf = RandomForestClassifier(n_estimators=100, max_depth=100,max_leaf_nodes=500,min_samples_leaf=5)\n",
    "rf_clf.fit(X_train, y_train)\n"
   ]
  },
  {
   "cell_type": "markdown",
   "metadata": {
    "id": "Qn_KDx7oN0X-"
   },
   "source": []
  },
  {
   "cell_type": "markdown",
   "metadata": {
    "id": "fpp2M_tl_prX"
   },
   "source": [
    "## Ensemble Classifier"
   ]
  },
  {
   "cell_type": "code",
   "execution_count": 37,
   "metadata": {
    "colab": {
     "base_uri": "https://localhost:8080/",
     "height": 0
    },
    "id": "jIQbjHpLEwOW",
    "outputId": "5c36418e-a5f6-4091-a0b3-23c88922f15d"
   },
   "outputs": [
    {
     "name": "stdout",
     "output_type": "stream",
     "text": [
      "Accuracy on training data: 0.8322588492884078\n",
      "Accuracy on validation data: 0.7936990633742854\n"
     ]
    }
   ],
   "source": [
    "#Hard Voting Classifier\n",
    "def evaluate_accuracy(model):\n",
    "    model.fit(X_train,y_train)\n",
    "    t_score = model.score(X_train,y_train)\n",
    "    print(\"Accuracy on training data:\",t_score)\n",
    "    p_score = model.score(X_val,y_val)\n",
    "    print(\"Accuracy on validation data:\",p_score)\n",
    "    return [t_score, p_score]\n",
    "\n",
    "model = VotingClassifier(estimators=[('svm',rbf_kernel_model),('rf',rf_clf),('lr',lr)],voting='hard')\n",
    "acc = evaluate_accuracy(model)\n",
    "scores.append({\n",
    "      'Voting Classifier'\n",
    "      'hard',\n",
    "    acc[0],\n",
    "    acc[1]\n",
    "})"
   ]
  },
  {
   "cell_type": "code",
   "execution_count": 38,
   "metadata": {
    "colab": {
     "base_uri": "https://localhost:8080/",
     "height": 0
    },
    "id": "f7E9cGfyqY87",
    "outputId": "711e2a24-7ff1-4d37-9de7-45b9b753cdae"
   },
   "outputs": [
    {
     "name": "stdout",
     "output_type": "stream",
     "text": [
      "Accuracy on training data: 0.8325832218302721\n",
      "Accuracy on validation data: 0.7988079309086485\n"
     ]
    }
   ],
   "source": [
    "#Soft Voting Classifier\n",
    "model = VotingClassifier(estimators=[('svm',rbf_kernel_model),('rf',rf_clf),('lr',lr)],voting='soft')\n",
    "acc = evaluate_accuracy(model)\n",
    "scores.append({\n",
    "      'Voting Classifier',\n",
    "      'soft',\n",
    "    acc[0],\n",
    "    acc[1]\n",
    "})"
   ]
  },
  {
   "cell_type": "code",
   "execution_count": 39,
   "metadata": {
    "colab": {
     "base_uri": "https://localhost:8080/",
     "height": 0
    },
    "id": "miyy-HqyrXJp",
    "outputId": "6b2e1b3e-6af6-443e-b754-be66fc0df5b5"
   },
   "outputs": [
    {
     "name": "stdout",
     "output_type": "stream",
     "text": [
      "Accuracy on training data: 0.8486396626525564\n",
      "Accuracy on validation data: 0.8047682763654057\n"
     ]
    }
   ],
   "source": [
    "#Stacking\n",
    "estimator = AdaBoostClassifier(n_estimators=100,learning_rate=0.01)\n",
    "model = StackingClassifier(estimators=[('svm',rbf_kernel_model),('rf',rf_clf),('lr',lr)],final_estimator=estimator)\n",
    "acc = evaluate_accuracy(model)\n",
    "scores.append({\n",
    "      'model':'Stacking',\n",
    "      'best params':'AdaBoost',\n",
    "    'training accuracy':acc[0],\n",
    "    'validation accuracy':acc[1]\n",
    "})"
   ]
  },
  {
   "cell_type": "code",
   "execution_count": 40,
   "metadata": {
    "colab": {
     "base_uri": "https://localhost:8080/",
     "height": 0
    },
    "id": "UGM07pNhrZ1K",
    "outputId": "073fb16b-af15-465f-977f-e53518258fb2"
   },
   "outputs": [
    {
     "name": "stdout",
     "output_type": "stream",
     "text": [
      "Accuracy on training data: 0.8588168511535499\n",
      "Accuracy on validation data: 0.8044033572558082\n"
     ]
    }
   ],
   "source": [
    "#Stacking \n",
    "estimator = GradientBoostingClassifier(n_estimators=100, learning_rate=0.01,max_depth=100)\n",
    "model = StackingClassifier(estimators=[('svm',rbf_kernel_model),('rf',rf_clf),('lr',lr)])\n",
    "acc = evaluate_accuracy(model)\n",
    "scores.append({\n",
    "      'model':'Stacking',\n",
    "      'best params':'GradientBoosting',\n",
    "    'training accuracy':acc[0],\n",
    "    'validation accuracy':acc[1]\n",
    "})"
   ]
  },
  {
   "cell_type": "code",
   "execution_count": 41,
   "metadata": {
    "colab": {
     "base_uri": "https://localhost:8080/",
     "height": 0
    },
    "id": "O6XBdGJM-qzI",
    "outputId": "00d1f68a-c745-496d-9d4d-b24132bf98ec"
   },
   "outputs": [
    {
     "name": "stdout",
     "output_type": "stream",
     "text": [
      "[['Logistic Regression', 'Saga solver', 0.7421643757855898, 0.7404208733730689], ['SVM', 'rbf kernel', 0.8235413372258038, 0.801386523960107], ['Random Forest', 'default params', 0.8672910838097555, 0.7947938207030775], {0.8322588492884078, 0.7936990633742854, 'Voting Classifierhard'}, {0.8325832218302721, 0.7988079309086485, 'Voting Classifier', 'soft'}, {'model': 'Stacking', 'best params': 'AdaBoost', 'training accuracy': 0.8486396626525564, 'validation accuracy': 0.8047682763654057}, {'model': 'Stacking', 'best params': 'GradientBoosting', 'training accuracy': 0.8588168511535499, 'validation accuracy': 0.8044033572558082}]\n"
     ]
    }
   ],
   "source": [
    "print(scores)"
   ]
  },
  {
   "cell_type": "markdown",
   "metadata": {
    "id": "IBFR96WRMknl"
   },
   "source": [
    "**Observation**:\n",
    "\n",
    "I would select gradient boosting classifier as a final model. validation accuracy is almost similar for adaboost and gradient boost but tranining accuracy is bit higher for gradient boost classifier. Hence going ahead with gradient boost classifier."
   ]
  },
  {
   "cell_type": "markdown",
   "metadata": {
    "id": "keGsxx1LcqC5"
   },
   "source": [
    "# Final Model"
   ]
  },
  {
   "cell_type": "code",
   "execution_count": 42,
   "metadata": {
    "colab": {
     "base_uri": "https://localhost:8080/",
     "height": 0
    },
    "id": "uVNqS2b-Mmjr",
    "outputId": "713d681f-a2e2-4f44-91d7-5fb62bd3affe"
   },
   "outputs": [
    {
     "name": "stdout",
     "output_type": "stream",
     "text": [
      "model accuracy: 0.8068596448552664\n",
      "model recall: 0.8456730769230769\n",
      "model precision: 0.7880824372759857\n",
      "classification report:               precision    recall  f1-score   support\n",
      "\n",
      "           0       0.83      0.77      0.80      4062\n",
      "           1       0.79      0.85      0.82      4160\n",
      "\n",
      "    accuracy                           0.81      8222\n",
      "   macro avg       0.81      0.81      0.81      8222\n",
      "weighted avg       0.81      0.81      0.81      8222\n",
      "\n"
     ]
    }
   ],
   "source": [
    "model.fit(X_train,y_train)\n",
    "y_pred=model.predict(X_test)\n",
    "\n",
    "from sklearn.metrics import classification_report\n",
    "\n",
    "print(\"model accuracy:\",metrics.accuracy_score(y_test, y_pred))\n",
    "print(\"model recall:\",metrics.recall_score(y_test, y_pred, zero_division=1))\n",
    "print(\"model precision:\",metrics.precision_score(y_test, y_pred, zero_division=1))\n",
    "print(\"classification report:\",metrics.classification_report(y_test, y_pred, zero_division=1))\n"
   ]
  },
  {
   "cell_type": "code",
   "execution_count": 44,
   "metadata": {
    "colab": {
     "base_uri": "https://localhost:8080/",
     "height": 404
    },
    "id": "GBz3njk6l-DU",
    "outputId": "94c22192-c985-468f-a2cf-b18d7cc8dd6f"
   },
   "outputs": [
    {
     "data": {
      "image/png": "[encoded data removed]",
      "text/plain": [
       "<Figure size 720x432 with 2 Axes>"
      ]
     },
     "metadata": {
      "needs_background": "light"
     },
     "output_type": "display_data"
    }
   ],
   "source": [
    "cm=metrics.confusion_matrix(y_true=y_test, y_pred=y_pred)\n",
    "matplot.subplots(figsize=(10, 6))\n",
    "sns.heatmap(cm, annot = True, fmt = 'g')\n",
    "matplot.xlabel(\"Predicted\")\n",
    "matplot.ylabel(\"Actual\")\n",
    "matplot.title(\"Confusion Matrix\")\n",
    "matplot.show()\n"
   ]
  },
  {
   "cell_type": "markdown",
   "metadata": {
    "id": "-h1ZGxIXmfN7"
   },
   "source": [
    "# Final Thought"
   ]
  },
  {
   "cell_type": "markdown",
   "metadata": {
    "id": "n72AqS2qnGPV"
   },
   "source": [
    "Based on the results, the model has an overall accuracy of 0.8069 and an F1-score of 0.81, which suggests that the model is performing reasonably well. The model also has a recall of 0.8457 and a precision of 0.7881, which indicate that it is able to identify a high proportion of positive instances while also minimizing the false positives.\n",
    "\n",
    "\n",
    "In terms of future improvements, few suggestions:\n",
    "\n",
    "1.Having more data may help improve the model's accuracy and generalization performance.\n",
    "\n",
    "2.Consider exploring additional features or transforming existing features to improve the model's ability to capture patterns in the data.\n",
    "\n",
    "These two could be possible improvements other than the hyperparameter tunning which we already did in this exercise.\n",
    "\n",
    "\n",
    "\n"
   ]
  }
 ],
 "metadata": {
  "accelerator": "TPU",
  "colab": {
   "provenance": [],
   "toc_visible": true
  },
  "gpuClass": "standard",
  "kernelspec": {
   "display_name": "Python 3 (ipykernel)",
   "language": "python",
   "name": "python3"
  },
  "language_info": {
   "codemirror_mode": {
    "name": "ipython",
    "version": 3
   },
   "file_extension": ".py",
   "mimetype": "text/x-python",
   "name": "python",
   "nbconvert_exporter": "python",
   "pygments_lexer": "ipython3",
   "version": "3.11.7"
  }
 },
 "nbformat": 4,
 "nbformat_minor": 4
}
